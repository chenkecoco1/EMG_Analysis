{
 "cells": [
  {
   "cell_type": "markdown",
   "id": "aed0b710",
   "metadata": {},
   "source": [
    "## TF for Classification"
   ]
  },
  {
   "cell_type": "code",
   "execution_count": 242,
   "id": "5782b653",
   "metadata": {},
   "outputs": [],
   "source": [
    "import matplotlib.pyplot as plt\n",
    "import numpy as np\n",
    "import pandas as pd\n",
    "from matplotlib.pyplot import figure"
   ]
  },
  {
   "cell_type": "code",
   "execution_count": 243,
   "id": "bfe1b252",
   "metadata": {},
   "outputs": [],
   "source": [
    "df = pd.read_excel(r'C:\\Users\\16468\\Desktop\\Meeting 03_20\\for_py_classification.xlsx')"
   ]
  },
  {
   "cell_type": "code",
   "execution_count": 244,
   "id": "4430271a",
   "metadata": {},
   "outputs": [
    {
     "data": {
      "text/html": [
       "<div>\n",
       "<style scoped>\n",
       "    .dataframe tbody tr th:only-of-type {\n",
       "        vertical-align: middle;\n",
       "    }\n",
       "\n",
       "    .dataframe tbody tr th {\n",
       "        vertical-align: top;\n",
       "    }\n",
       "\n",
       "    .dataframe thead th {\n",
       "        text-align: right;\n",
       "    }\n",
       "</style>\n",
       "<table border=\"1\" class=\"dataframe\">\n",
       "  <thead>\n",
       "    <tr style=\"text-align: right;\">\n",
       "      <th></th>\n",
       "      <th>tf1efd</th>\n",
       "      <th>tf2efd</th>\n",
       "      <th>tf3efd</th>\n",
       "      <th>tf4efd</th>\n",
       "      <th>tf5efd</th>\n",
       "      <th>tforg</th>\n",
       "      <th>tf1ewt</th>\n",
       "      <th>tf2ewt</th>\n",
       "      <th>tf3ewt</th>\n",
       "      <th>tf4ewt</th>\n",
       "      <th>tf5ewt</th>\n",
       "      <th>Subject</th>\n",
       "      <th>Channel</th>\n",
       "      <th>Gesture</th>\n",
       "      <th>Rep</th>\n",
       "    </tr>\n",
       "  </thead>\n",
       "  <tbody>\n",
       "    <tr>\n",
       "      <th>0</th>\n",
       "      <td>1.297450</td>\n",
       "      <td>1.288711</td>\n",
       "      <td>1.219703</td>\n",
       "      <td>1.317423</td>\n",
       "      <td>1.491336</td>\n",
       "      <td>1.945078</td>\n",
       "      <td>1.666488</td>\n",
       "      <td>1.293413</td>\n",
       "      <td>1.357614</td>\n",
       "      <td>1.240531</td>\n",
       "      <td>0.603378</td>\n",
       "      <td>S1</td>\n",
       "      <td>1</td>\n",
       "      <td>1</td>\n",
       "      <td>1</td>\n",
       "    </tr>\n",
       "    <tr>\n",
       "      <th>1</th>\n",
       "      <td>1.248371</td>\n",
       "      <td>1.225743</td>\n",
       "      <td>1.278686</td>\n",
       "      <td>1.394078</td>\n",
       "      <td>1.462161</td>\n",
       "      <td>1.956979</td>\n",
       "      <td>1.525569</td>\n",
       "      <td>1.287836</td>\n",
       "      <td>1.197682</td>\n",
       "      <td>1.373707</td>\n",
       "      <td>0.878940</td>\n",
       "      <td>S1</td>\n",
       "      <td>1</td>\n",
       "      <td>1</td>\n",
       "      <td>2</td>\n",
       "    </tr>\n",
       "    <tr>\n",
       "      <th>2</th>\n",
       "      <td>1.002370</td>\n",
       "      <td>1.340450</td>\n",
       "      <td>1.259803</td>\n",
       "      <td>1.357268</td>\n",
       "      <td>1.570706</td>\n",
       "      <td>2.057125</td>\n",
       "      <td>1.671887</td>\n",
       "      <td>1.180583</td>\n",
       "      <td>1.160948</td>\n",
       "      <td>1.337262</td>\n",
       "      <td>0.968722</td>\n",
       "      <td>S1</td>\n",
       "      <td>1</td>\n",
       "      <td>1</td>\n",
       "      <td>3</td>\n",
       "    </tr>\n",
       "    <tr>\n",
       "      <th>3</th>\n",
       "      <td>0.669701</td>\n",
       "      <td>1.219033</td>\n",
       "      <td>1.279485</td>\n",
       "      <td>1.211368</td>\n",
       "      <td>1.703141</td>\n",
       "      <td>2.079485</td>\n",
       "      <td>1.704221</td>\n",
       "      <td>1.183935</td>\n",
       "      <td>1.313058</td>\n",
       "      <td>1.211259</td>\n",
       "      <td>0.661686</td>\n",
       "      <td>S1</td>\n",
       "      <td>1</td>\n",
       "      <td>1</td>\n",
       "      <td>4</td>\n",
       "    </tr>\n",
       "    <tr>\n",
       "      <th>4</th>\n",
       "      <td>0.529237</td>\n",
       "      <td>0.817826</td>\n",
       "      <td>1.031933</td>\n",
       "      <td>1.404816</td>\n",
       "      <td>1.724652</td>\n",
       "      <td>2.053263</td>\n",
       "      <td>1.583478</td>\n",
       "      <td>1.265012</td>\n",
       "      <td>1.203269</td>\n",
       "      <td>0.870341</td>\n",
       "      <td>0.527242</td>\n",
       "      <td>S1</td>\n",
       "      <td>1</td>\n",
       "      <td>1</td>\n",
       "      <td>5</td>\n",
       "    </tr>\n",
       "    <tr>\n",
       "      <th>...</th>\n",
       "      <td>...</td>\n",
       "      <td>...</td>\n",
       "      <td>...</td>\n",
       "      <td>...</td>\n",
       "      <td>...</td>\n",
       "      <td>...</td>\n",
       "      <td>...</td>\n",
       "      <td>...</td>\n",
       "      <td>...</td>\n",
       "      <td>...</td>\n",
       "      <td>...</td>\n",
       "      <td>...</td>\n",
       "      <td>...</td>\n",
       "      <td>...</td>\n",
       "      <td>...</td>\n",
       "    </tr>\n",
       "    <tr>\n",
       "      <th>7195</th>\n",
       "      <td>0.069801</td>\n",
       "      <td>0.159967</td>\n",
       "      <td>0.235379</td>\n",
       "      <td>0.798039</td>\n",
       "      <td>2.008155</td>\n",
       "      <td>1.853862</td>\n",
       "      <td>2.027159</td>\n",
       "      <td>0.790278</td>\n",
       "      <td>0.205947</td>\n",
       "      <td>0.080239</td>\n",
       "      <td>0.026171</td>\n",
       "      <td>S9</td>\n",
       "      <td>12</td>\n",
       "      <td>10</td>\n",
       "      <td>2</td>\n",
       "    </tr>\n",
       "    <tr>\n",
       "      <th>7196</th>\n",
       "      <td>0.048849</td>\n",
       "      <td>0.148111</td>\n",
       "      <td>0.467879</td>\n",
       "      <td>1.036947</td>\n",
       "      <td>2.004601</td>\n",
       "      <td>1.826183</td>\n",
       "      <td>2.001168</td>\n",
       "      <td>0.888301</td>\n",
       "      <td>0.203970</td>\n",
       "      <td>0.077748</td>\n",
       "      <td>0.027056</td>\n",
       "      <td>S9</td>\n",
       "      <td>12</td>\n",
       "      <td>10</td>\n",
       "      <td>3</td>\n",
       "    </tr>\n",
       "    <tr>\n",
       "      <th>7197</th>\n",
       "      <td>0.039776</td>\n",
       "      <td>0.083944</td>\n",
       "      <td>0.456486</td>\n",
       "      <td>0.966955</td>\n",
       "      <td>2.032523</td>\n",
       "      <td>1.861723</td>\n",
       "      <td>2.027832</td>\n",
       "      <td>0.721223</td>\n",
       "      <td>0.220939</td>\n",
       "      <td>0.093508</td>\n",
       "      <td>0.040680</td>\n",
       "      <td>S9</td>\n",
       "      <td>12</td>\n",
       "      <td>10</td>\n",
       "      <td>4</td>\n",
       "    </tr>\n",
       "    <tr>\n",
       "      <th>7198</th>\n",
       "      <td>0.074003</td>\n",
       "      <td>0.174342</td>\n",
       "      <td>0.200249</td>\n",
       "      <td>0.350774</td>\n",
       "      <td>2.056249</td>\n",
       "      <td>1.850179</td>\n",
       "      <td>2.071835</td>\n",
       "      <td>0.468991</td>\n",
       "      <td>0.299974</td>\n",
       "      <td>0.209108</td>\n",
       "      <td>0.075640</td>\n",
       "      <td>S9</td>\n",
       "      <td>12</td>\n",
       "      <td>10</td>\n",
       "      <td>5</td>\n",
       "    </tr>\n",
       "    <tr>\n",
       "      <th>7199</th>\n",
       "      <td>0.050829</td>\n",
       "      <td>0.146096</td>\n",
       "      <td>0.382130</td>\n",
       "      <td>0.786740</td>\n",
       "      <td>2.016914</td>\n",
       "      <td>1.829013</td>\n",
       "      <td>2.015660</td>\n",
       "      <td>0.409426</td>\n",
       "      <td>0.233580</td>\n",
       "      <td>0.178806</td>\n",
       "      <td>0.062375</td>\n",
       "      <td>S9</td>\n",
       "      <td>12</td>\n",
       "      <td>10</td>\n",
       "      <td>6</td>\n",
       "    </tr>\n",
       "  </tbody>\n",
       "</table>\n",
       "<p>7200 rows × 15 columns</p>\n",
       "</div>"
      ],
      "text/plain": [
       "        tf1efd    tf2efd    tf3efd    tf4efd    tf5efd     tforg    tf1ewt  \\\n",
       "0     1.297450  1.288711  1.219703  1.317423  1.491336  1.945078  1.666488   \n",
       "1     1.248371  1.225743  1.278686  1.394078  1.462161  1.956979  1.525569   \n",
       "2     1.002370  1.340450  1.259803  1.357268  1.570706  2.057125  1.671887   \n",
       "3     0.669701  1.219033  1.279485  1.211368  1.703141  2.079485  1.704221   \n",
       "4     0.529237  0.817826  1.031933  1.404816  1.724652  2.053263  1.583478   \n",
       "...        ...       ...       ...       ...       ...       ...       ...   \n",
       "7195  0.069801  0.159967  0.235379  0.798039  2.008155  1.853862  2.027159   \n",
       "7196  0.048849  0.148111  0.467879  1.036947  2.004601  1.826183  2.001168   \n",
       "7197  0.039776  0.083944  0.456486  0.966955  2.032523  1.861723  2.027832   \n",
       "7198  0.074003  0.174342  0.200249  0.350774  2.056249  1.850179  2.071835   \n",
       "7199  0.050829  0.146096  0.382130  0.786740  2.016914  1.829013  2.015660   \n",
       "\n",
       "        tf2ewt    tf3ewt    tf4ewt    tf5ewt Subject  Channel  Gesture  Rep  \n",
       "0     1.293413  1.357614  1.240531  0.603378      S1        1        1    1  \n",
       "1     1.287836  1.197682  1.373707  0.878940      S1        1        1    2  \n",
       "2     1.180583  1.160948  1.337262  0.968722      S1        1        1    3  \n",
       "3     1.183935  1.313058  1.211259  0.661686      S1        1        1    4  \n",
       "4     1.265012  1.203269  0.870341  0.527242      S1        1        1    5  \n",
       "...        ...       ...       ...       ...     ...      ...      ...  ...  \n",
       "7195  0.790278  0.205947  0.080239  0.026171      S9       12       10    2  \n",
       "7196  0.888301  0.203970  0.077748  0.027056      S9       12       10    3  \n",
       "7197  0.721223  0.220939  0.093508  0.040680      S9       12       10    4  \n",
       "7198  0.468991  0.299974  0.209108  0.075640      S9       12       10    5  \n",
       "7199  0.409426  0.233580  0.178806  0.062375      S9       12       10    6  \n",
       "\n",
       "[7200 rows x 15 columns]"
      ]
     },
     "execution_count": 244,
     "metadata": {},
     "output_type": "execute_result"
    }
   ],
   "source": [
    "df"
   ]
  },
  {
   "cell_type": "code",
   "execution_count": 245,
   "id": "88543402",
   "metadata": {},
   "outputs": [],
   "source": [
    "df=df.replace(np.nan, 0)"
   ]
  },
  {
   "cell_type": "code",
   "execution_count": 246,
   "id": "3277149e",
   "metadata": {},
   "outputs": [],
   "source": [
    "df1=df.iloc[0:600,:]\n",
    "df2=df.iloc[600:1200,:].reset_index(drop=True)\n",
    "df3=df.iloc[1200:1800,:].reset_index(drop=True)\n",
    "df4=df.iloc[1800:2400,:].reset_index(drop=True)\n",
    "df5=df.iloc[2400:3000,:].reset_index(drop=True)\n",
    "df6=df.iloc[3000:3600,:].reset_index(drop=True)\n",
    "df7=df.iloc[3600:4200,:].reset_index(drop=True)\n",
    "df8=df.iloc[4200:4800,:].reset_index(drop=True)\n",
    "df9=df.iloc[4800:5400,:].reset_index(drop=True)\n",
    "df10=df.iloc[5400:6000,:].reset_index(drop=True)\n",
    "df11=df.iloc[6000:6600,:].reset_index(drop=True)\n",
    "df12=df.iloc[6600:7200,:].reset_index(drop=True)"
   ]
  },
  {
   "cell_type": "code",
   "execution_count": 247,
   "id": "e7e74ac8",
   "metadata": {},
   "outputs": [],
   "source": [
    "df_new = pd.concat([df1, df2,df3,df4,df5,df6,df7,df8,df9,df10,df11,df12], axis=1)"
   ]
  },
  {
   "cell_type": "code",
   "execution_count": 248,
   "id": "d70b1e73",
   "metadata": {},
   "outputs": [
    {
     "data": {
      "text/html": [
       "<div>\n",
       "<style scoped>\n",
       "    .dataframe tbody tr th:only-of-type {\n",
       "        vertical-align: middle;\n",
       "    }\n",
       "\n",
       "    .dataframe tbody tr th {\n",
       "        vertical-align: top;\n",
       "    }\n",
       "\n",
       "    .dataframe thead th {\n",
       "        text-align: right;\n",
       "    }\n",
       "</style>\n",
       "<table border=\"1\" class=\"dataframe\">\n",
       "  <thead>\n",
       "    <tr style=\"text-align: right;\">\n",
       "      <th></th>\n",
       "      <th>tf1efd</th>\n",
       "      <th>tf2efd</th>\n",
       "      <th>tf3efd</th>\n",
       "      <th>tf4efd</th>\n",
       "      <th>tf5efd</th>\n",
       "      <th>tforg</th>\n",
       "      <th>tf1ewt</th>\n",
       "      <th>tf2ewt</th>\n",
       "      <th>tf3ewt</th>\n",
       "      <th>tf4ewt</th>\n",
       "      <th>...</th>\n",
       "      <th>tforg</th>\n",
       "      <th>tf1ewt</th>\n",
       "      <th>tf2ewt</th>\n",
       "      <th>tf3ewt</th>\n",
       "      <th>tf4ewt</th>\n",
       "      <th>tf5ewt</th>\n",
       "      <th>Subject</th>\n",
       "      <th>Channel</th>\n",
       "      <th>Gesture</th>\n",
       "      <th>Rep</th>\n",
       "    </tr>\n",
       "  </thead>\n",
       "  <tbody>\n",
       "    <tr>\n",
       "      <th>0</th>\n",
       "      <td>1.297450</td>\n",
       "      <td>1.288711</td>\n",
       "      <td>1.219703</td>\n",
       "      <td>1.317423</td>\n",
       "      <td>1.491336</td>\n",
       "      <td>1.945078</td>\n",
       "      <td>1.666488</td>\n",
       "      <td>1.293413</td>\n",
       "      <td>1.357614</td>\n",
       "      <td>1.240531</td>\n",
       "      <td>...</td>\n",
       "      <td>1.825624</td>\n",
       "      <td>1.736373</td>\n",
       "      <td>1.322310</td>\n",
       "      <td>1.089786</td>\n",
       "      <td>0.858699</td>\n",
       "      <td>0.409728</td>\n",
       "      <td>S1</td>\n",
       "      <td>12</td>\n",
       "      <td>1</td>\n",
       "      <td>1</td>\n",
       "    </tr>\n",
       "    <tr>\n",
       "      <th>1</th>\n",
       "      <td>1.248371</td>\n",
       "      <td>1.225743</td>\n",
       "      <td>1.278686</td>\n",
       "      <td>1.394078</td>\n",
       "      <td>1.462161</td>\n",
       "      <td>1.956979</td>\n",
       "      <td>1.525569</td>\n",
       "      <td>1.287836</td>\n",
       "      <td>1.197682</td>\n",
       "      <td>1.373707</td>\n",
       "      <td>...</td>\n",
       "      <td>1.844336</td>\n",
       "      <td>1.696215</td>\n",
       "      <td>1.326738</td>\n",
       "      <td>1.340881</td>\n",
       "      <td>1.289160</td>\n",
       "      <td>0.743913</td>\n",
       "      <td>S1</td>\n",
       "      <td>12</td>\n",
       "      <td>1</td>\n",
       "      <td>2</td>\n",
       "    </tr>\n",
       "    <tr>\n",
       "      <th>2</th>\n",
       "      <td>1.002370</td>\n",
       "      <td>1.340450</td>\n",
       "      <td>1.259803</td>\n",
       "      <td>1.357268</td>\n",
       "      <td>1.570706</td>\n",
       "      <td>2.057125</td>\n",
       "      <td>1.671887</td>\n",
       "      <td>1.180583</td>\n",
       "      <td>1.160948</td>\n",
       "      <td>1.337262</td>\n",
       "      <td>...</td>\n",
       "      <td>1.800010</td>\n",
       "      <td>1.758450</td>\n",
       "      <td>1.337514</td>\n",
       "      <td>1.236522</td>\n",
       "      <td>0.950600</td>\n",
       "      <td>0.352831</td>\n",
       "      <td>S1</td>\n",
       "      <td>12</td>\n",
       "      <td>1</td>\n",
       "      <td>3</td>\n",
       "    </tr>\n",
       "    <tr>\n",
       "      <th>3</th>\n",
       "      <td>0.669701</td>\n",
       "      <td>1.219033</td>\n",
       "      <td>1.279485</td>\n",
       "      <td>1.211368</td>\n",
       "      <td>1.703141</td>\n",
       "      <td>2.079485</td>\n",
       "      <td>1.704221</td>\n",
       "      <td>1.183935</td>\n",
       "      <td>1.313058</td>\n",
       "      <td>1.211259</td>\n",
       "      <td>...</td>\n",
       "      <td>1.823548</td>\n",
       "      <td>1.840358</td>\n",
       "      <td>1.283321</td>\n",
       "      <td>1.163308</td>\n",
       "      <td>0.806387</td>\n",
       "      <td>0.306914</td>\n",
       "      <td>S1</td>\n",
       "      <td>12</td>\n",
       "      <td>1</td>\n",
       "      <td>4</td>\n",
       "    </tr>\n",
       "    <tr>\n",
       "      <th>4</th>\n",
       "      <td>0.529237</td>\n",
       "      <td>0.817826</td>\n",
       "      <td>1.031933</td>\n",
       "      <td>1.404816</td>\n",
       "      <td>1.724652</td>\n",
       "      <td>2.053263</td>\n",
       "      <td>1.583478</td>\n",
       "      <td>1.265012</td>\n",
       "      <td>1.203269</td>\n",
       "      <td>0.870341</td>\n",
       "      <td>...</td>\n",
       "      <td>1.821890</td>\n",
       "      <td>1.687632</td>\n",
       "      <td>1.345051</td>\n",
       "      <td>1.239173</td>\n",
       "      <td>0.915804</td>\n",
       "      <td>0.326410</td>\n",
       "      <td>S1</td>\n",
       "      <td>12</td>\n",
       "      <td>1</td>\n",
       "      <td>5</td>\n",
       "    </tr>\n",
       "  </tbody>\n",
       "</table>\n",
       "<p>5 rows × 180 columns</p>\n",
       "</div>"
      ],
      "text/plain": [
       "     tf1efd    tf2efd    tf3efd    tf4efd    tf5efd     tforg    tf1ewt  \\\n",
       "0  1.297450  1.288711  1.219703  1.317423  1.491336  1.945078  1.666488   \n",
       "1  1.248371  1.225743  1.278686  1.394078  1.462161  1.956979  1.525569   \n",
       "2  1.002370  1.340450  1.259803  1.357268  1.570706  2.057125  1.671887   \n",
       "3  0.669701  1.219033  1.279485  1.211368  1.703141  2.079485  1.704221   \n",
       "4  0.529237  0.817826  1.031933  1.404816  1.724652  2.053263  1.583478   \n",
       "\n",
       "     tf2ewt    tf3ewt    tf4ewt  ...     tforg    tf1ewt    tf2ewt    tf3ewt  \\\n",
       "0  1.293413  1.357614  1.240531  ...  1.825624  1.736373  1.322310  1.089786   \n",
       "1  1.287836  1.197682  1.373707  ...  1.844336  1.696215  1.326738  1.340881   \n",
       "2  1.180583  1.160948  1.337262  ...  1.800010  1.758450  1.337514  1.236522   \n",
       "3  1.183935  1.313058  1.211259  ...  1.823548  1.840358  1.283321  1.163308   \n",
       "4  1.265012  1.203269  0.870341  ...  1.821890  1.687632  1.345051  1.239173   \n",
       "\n",
       "     tf4ewt    tf5ewt  Subject  Channel  Gesture  Rep  \n",
       "0  0.858699  0.409728       S1       12        1    1  \n",
       "1  1.289160  0.743913       S1       12        1    2  \n",
       "2  0.950600  0.352831       S1       12        1    3  \n",
       "3  0.806387  0.306914       S1       12        1    4  \n",
       "4  0.915804  0.326410       S1       12        1    5  \n",
       "\n",
       "[5 rows x 180 columns]"
      ]
     },
     "execution_count": 248,
     "metadata": {},
     "output_type": "execute_result"
    }
   ],
   "source": [
    "df_new.head()"
   ]
  },
  {
   "cell_type": "code",
   "execution_count": 249,
   "id": "9537fd00",
   "metadata": {},
   "outputs": [],
   "source": [
    "dfedf=df_new.iloc[:,[0,1,15,16,30,31,45,46,60,61,75,76,90,91,105,106,120,121,135,136,150,151,165,166,178]]\n",
    "dforg=df_new.iloc[:,[5,20,35,50,65,80,95,110,125,140,155,170,178]]\n",
    "dfewt=df_new.iloc[:,[9,10,24,25,39,40,54,55,69,70,84,85,99,100,114,115,129,130,144,145,159,160,174,175,178]]"
   ]
  },
  {
   "cell_type": "code",
   "execution_count": 250,
   "id": "67883437",
   "metadata": {},
   "outputs": [
    {
     "data": {
      "text/html": [
       "<div>\n",
       "<style scoped>\n",
       "    .dataframe tbody tr th:only-of-type {\n",
       "        vertical-align: middle;\n",
       "    }\n",
       "\n",
       "    .dataframe tbody tr th {\n",
       "        vertical-align: top;\n",
       "    }\n",
       "\n",
       "    .dataframe thead th {\n",
       "        text-align: right;\n",
       "    }\n",
       "</style>\n",
       "<table border=\"1\" class=\"dataframe\">\n",
       "  <thead>\n",
       "    <tr style=\"text-align: right;\">\n",
       "      <th></th>\n",
       "      <th>tf4ewt</th>\n",
       "      <th>tf5ewt</th>\n",
       "      <th>tf4ewt</th>\n",
       "      <th>tf5ewt</th>\n",
       "      <th>tf4ewt</th>\n",
       "      <th>tf5ewt</th>\n",
       "      <th>tf4ewt</th>\n",
       "      <th>tf5ewt</th>\n",
       "      <th>tf4ewt</th>\n",
       "      <th>tf5ewt</th>\n",
       "      <th>...</th>\n",
       "      <th>tf5ewt</th>\n",
       "      <th>tf4ewt</th>\n",
       "      <th>tf5ewt</th>\n",
       "      <th>tf4ewt</th>\n",
       "      <th>tf5ewt</th>\n",
       "      <th>tf4ewt</th>\n",
       "      <th>tf5ewt</th>\n",
       "      <th>tf4ewt</th>\n",
       "      <th>tf5ewt</th>\n",
       "      <th>Gesture</th>\n",
       "    </tr>\n",
       "  </thead>\n",
       "  <tbody>\n",
       "    <tr>\n",
       "      <th>0</th>\n",
       "      <td>1.240531</td>\n",
       "      <td>0.603378</td>\n",
       "      <td>1.070076</td>\n",
       "      <td>0.516766</td>\n",
       "      <td>0.958063</td>\n",
       "      <td>0.445951</td>\n",
       "      <td>0.583557</td>\n",
       "      <td>0.232792</td>\n",
       "      <td>0.453147</td>\n",
       "      <td>0.152422</td>\n",
       "      <td>...</td>\n",
       "      <td>0.365533</td>\n",
       "      <td>1.194618</td>\n",
       "      <td>0.537710</td>\n",
       "      <td>0.981381</td>\n",
       "      <td>0.468866</td>\n",
       "      <td>0.080558</td>\n",
       "      <td>0.033304</td>\n",
       "      <td>0.858699</td>\n",
       "      <td>0.409728</td>\n",
       "      <td>1</td>\n",
       "    </tr>\n",
       "    <tr>\n",
       "      <th>1</th>\n",
       "      <td>1.373707</td>\n",
       "      <td>0.878940</td>\n",
       "      <td>1.342350</td>\n",
       "      <td>0.823045</td>\n",
       "      <td>1.048828</td>\n",
       "      <td>0.416228</td>\n",
       "      <td>0.159379</td>\n",
       "      <td>0.036701</td>\n",
       "      <td>0.349832</td>\n",
       "      <td>0.118825</td>\n",
       "      <td>...</td>\n",
       "      <td>0.405610</td>\n",
       "      <td>0.204470</td>\n",
       "      <td>0.065984</td>\n",
       "      <td>0.824373</td>\n",
       "      <td>0.409352</td>\n",
       "      <td>0.064793</td>\n",
       "      <td>0.020945</td>\n",
       "      <td>1.289160</td>\n",
       "      <td>0.743913</td>\n",
       "      <td>1</td>\n",
       "    </tr>\n",
       "    <tr>\n",
       "      <th>2</th>\n",
       "      <td>1.337262</td>\n",
       "      <td>0.968722</td>\n",
       "      <td>0.966538</td>\n",
       "      <td>0.477977</td>\n",
       "      <td>1.097451</td>\n",
       "      <td>0.562043</td>\n",
       "      <td>0.442669</td>\n",
       "      <td>0.138253</td>\n",
       "      <td>0.146013</td>\n",
       "      <td>0.068415</td>\n",
       "      <td>...</td>\n",
       "      <td>0.551465</td>\n",
       "      <td>0.562928</td>\n",
       "      <td>0.133669</td>\n",
       "      <td>0.949092</td>\n",
       "      <td>0.491665</td>\n",
       "      <td>0.118332</td>\n",
       "      <td>0.044079</td>\n",
       "      <td>0.950600</td>\n",
       "      <td>0.352831</td>\n",
       "      <td>1</td>\n",
       "    </tr>\n",
       "    <tr>\n",
       "      <th>3</th>\n",
       "      <td>1.211259</td>\n",
       "      <td>0.661686</td>\n",
       "      <td>1.158236</td>\n",
       "      <td>0.580793</td>\n",
       "      <td>0.912166</td>\n",
       "      <td>0.517734</td>\n",
       "      <td>0.487060</td>\n",
       "      <td>0.093284</td>\n",
       "      <td>0.352440</td>\n",
       "      <td>0.090269</td>\n",
       "      <td>...</td>\n",
       "      <td>0.558792</td>\n",
       "      <td>1.341517</td>\n",
       "      <td>0.760151</td>\n",
       "      <td>1.336406</td>\n",
       "      <td>0.810020</td>\n",
       "      <td>0.297323</td>\n",
       "      <td>0.083665</td>\n",
       "      <td>0.806387</td>\n",
       "      <td>0.306914</td>\n",
       "      <td>1</td>\n",
       "    </tr>\n",
       "    <tr>\n",
       "      <th>4</th>\n",
       "      <td>0.870341</td>\n",
       "      <td>0.527242</td>\n",
       "      <td>1.287812</td>\n",
       "      <td>0.774607</td>\n",
       "      <td>0.920901</td>\n",
       "      <td>0.437366</td>\n",
       "      <td>0.665049</td>\n",
       "      <td>0.237306</td>\n",
       "      <td>0.535484</td>\n",
       "      <td>0.106129</td>\n",
       "      <td>...</td>\n",
       "      <td>0.488763</td>\n",
       "      <td>0.957537</td>\n",
       "      <td>0.356985</td>\n",
       "      <td>1.243455</td>\n",
       "      <td>0.625403</td>\n",
       "      <td>0.076218</td>\n",
       "      <td>0.036934</td>\n",
       "      <td>0.915804</td>\n",
       "      <td>0.326410</td>\n",
       "      <td>1</td>\n",
       "    </tr>\n",
       "    <tr>\n",
       "      <th>...</th>\n",
       "      <td>...</td>\n",
       "      <td>...</td>\n",
       "      <td>...</td>\n",
       "      <td>...</td>\n",
       "      <td>...</td>\n",
       "      <td>...</td>\n",
       "      <td>...</td>\n",
       "      <td>...</td>\n",
       "      <td>...</td>\n",
       "      <td>...</td>\n",
       "      <td>...</td>\n",
       "      <td>...</td>\n",
       "      <td>...</td>\n",
       "      <td>...</td>\n",
       "      <td>...</td>\n",
       "      <td>...</td>\n",
       "      <td>...</td>\n",
       "      <td>...</td>\n",
       "      <td>...</td>\n",
       "      <td>...</td>\n",
       "      <td>...</td>\n",
       "    </tr>\n",
       "    <tr>\n",
       "      <th>595</th>\n",
       "      <td>0.918140</td>\n",
       "      <td>0.420201</td>\n",
       "      <td>0.964823</td>\n",
       "      <td>0.399549</td>\n",
       "      <td>0.423172</td>\n",
       "      <td>0.177664</td>\n",
       "      <td>0.109324</td>\n",
       "      <td>0.040635</td>\n",
       "      <td>0.583955</td>\n",
       "      <td>0.196339</td>\n",
       "      <td>...</td>\n",
       "      <td>1.278607</td>\n",
       "      <td>1.279298</td>\n",
       "      <td>1.474296</td>\n",
       "      <td>0.065647</td>\n",
       "      <td>0.018355</td>\n",
       "      <td>0.148943</td>\n",
       "      <td>0.074309</td>\n",
       "      <td>0.080239</td>\n",
       "      <td>0.026171</td>\n",
       "      <td>10</td>\n",
       "    </tr>\n",
       "    <tr>\n",
       "      <th>596</th>\n",
       "      <td>1.345426</td>\n",
       "      <td>1.017520</td>\n",
       "      <td>1.303227</td>\n",
       "      <td>0.757047</td>\n",
       "      <td>0.943268</td>\n",
       "      <td>0.279399</td>\n",
       "      <td>0.078568</td>\n",
       "      <td>0.028001</td>\n",
       "      <td>0.656000</td>\n",
       "      <td>0.191385</td>\n",
       "      <td>...</td>\n",
       "      <td>1.265016</td>\n",
       "      <td>1.218602</td>\n",
       "      <td>1.188842</td>\n",
       "      <td>0.084655</td>\n",
       "      <td>0.025758</td>\n",
       "      <td>0.354854</td>\n",
       "      <td>0.122393</td>\n",
       "      <td>0.077748</td>\n",
       "      <td>0.027056</td>\n",
       "      <td>10</td>\n",
       "    </tr>\n",
       "    <tr>\n",
       "      <th>597</th>\n",
       "      <td>1.212578</td>\n",
       "      <td>1.136877</td>\n",
       "      <td>1.184716</td>\n",
       "      <td>0.731026</td>\n",
       "      <td>1.283951</td>\n",
       "      <td>0.544477</td>\n",
       "      <td>0.095716</td>\n",
       "      <td>0.035854</td>\n",
       "      <td>0.454239</td>\n",
       "      <td>0.148569</td>\n",
       "      <td>...</td>\n",
       "      <td>1.414779</td>\n",
       "      <td>1.185056</td>\n",
       "      <td>1.457008</td>\n",
       "      <td>0.116759</td>\n",
       "      <td>0.030673</td>\n",
       "      <td>0.359102</td>\n",
       "      <td>0.124286</td>\n",
       "      <td>0.093508</td>\n",
       "      <td>0.040680</td>\n",
       "      <td>10</td>\n",
       "    </tr>\n",
       "    <tr>\n",
       "      <th>598</th>\n",
       "      <td>1.281705</td>\n",
       "      <td>1.096973</td>\n",
       "      <td>1.245743</td>\n",
       "      <td>0.532248</td>\n",
       "      <td>1.269481</td>\n",
       "      <td>1.193590</td>\n",
       "      <td>0.028840</td>\n",
       "      <td>0.008259</td>\n",
       "      <td>0.313808</td>\n",
       "      <td>0.139643</td>\n",
       "      <td>...</td>\n",
       "      <td>1.231623</td>\n",
       "      <td>1.292758</td>\n",
       "      <td>1.561404</td>\n",
       "      <td>0.073915</td>\n",
       "      <td>0.019743</td>\n",
       "      <td>0.109087</td>\n",
       "      <td>0.036656</td>\n",
       "      <td>0.209108</td>\n",
       "      <td>0.075640</td>\n",
       "      <td>10</td>\n",
       "    </tr>\n",
       "    <tr>\n",
       "      <th>599</th>\n",
       "      <td>1.260079</td>\n",
       "      <td>0.638895</td>\n",
       "      <td>1.350973</td>\n",
       "      <td>0.801151</td>\n",
       "      <td>1.225489</td>\n",
       "      <td>0.712449</td>\n",
       "      <td>0.031526</td>\n",
       "      <td>0.007998</td>\n",
       "      <td>0.682337</td>\n",
       "      <td>0.314273</td>\n",
       "      <td>...</td>\n",
       "      <td>0.874150</td>\n",
       "      <td>1.203645</td>\n",
       "      <td>1.395758</td>\n",
       "      <td>0.047745</td>\n",
       "      <td>0.011707</td>\n",
       "      <td>0.351584</td>\n",
       "      <td>0.129245</td>\n",
       "      <td>0.178806</td>\n",
       "      <td>0.062375</td>\n",
       "      <td>10</td>\n",
       "    </tr>\n",
       "  </tbody>\n",
       "</table>\n",
       "<p>600 rows × 25 columns</p>\n",
       "</div>"
      ],
      "text/plain": [
       "       tf4ewt    tf5ewt    tf4ewt    tf5ewt    tf4ewt    tf5ewt    tf4ewt  \\\n",
       "0    1.240531  0.603378  1.070076  0.516766  0.958063  0.445951  0.583557   \n",
       "1    1.373707  0.878940  1.342350  0.823045  1.048828  0.416228  0.159379   \n",
       "2    1.337262  0.968722  0.966538  0.477977  1.097451  0.562043  0.442669   \n",
       "3    1.211259  0.661686  1.158236  0.580793  0.912166  0.517734  0.487060   \n",
       "4    0.870341  0.527242  1.287812  0.774607  0.920901  0.437366  0.665049   \n",
       "..        ...       ...       ...       ...       ...       ...       ...   \n",
       "595  0.918140  0.420201  0.964823  0.399549  0.423172  0.177664  0.109324   \n",
       "596  1.345426  1.017520  1.303227  0.757047  0.943268  0.279399  0.078568   \n",
       "597  1.212578  1.136877  1.184716  0.731026  1.283951  0.544477  0.095716   \n",
       "598  1.281705  1.096973  1.245743  0.532248  1.269481  1.193590  0.028840   \n",
       "599  1.260079  0.638895  1.350973  0.801151  1.225489  0.712449  0.031526   \n",
       "\n",
       "       tf5ewt    tf4ewt    tf5ewt  ...    tf5ewt    tf4ewt    tf5ewt  \\\n",
       "0    0.232792  0.453147  0.152422  ...  0.365533  1.194618  0.537710   \n",
       "1    0.036701  0.349832  0.118825  ...  0.405610  0.204470  0.065984   \n",
       "2    0.138253  0.146013  0.068415  ...  0.551465  0.562928  0.133669   \n",
       "3    0.093284  0.352440  0.090269  ...  0.558792  1.341517  0.760151   \n",
       "4    0.237306  0.535484  0.106129  ...  0.488763  0.957537  0.356985   \n",
       "..        ...       ...       ...  ...       ...       ...       ...   \n",
       "595  0.040635  0.583955  0.196339  ...  1.278607  1.279298  1.474296   \n",
       "596  0.028001  0.656000  0.191385  ...  1.265016  1.218602  1.188842   \n",
       "597  0.035854  0.454239  0.148569  ...  1.414779  1.185056  1.457008   \n",
       "598  0.008259  0.313808  0.139643  ...  1.231623  1.292758  1.561404   \n",
       "599  0.007998  0.682337  0.314273  ...  0.874150  1.203645  1.395758   \n",
       "\n",
       "       tf4ewt    tf5ewt    tf4ewt    tf5ewt    tf4ewt    tf5ewt  Gesture  \n",
       "0    0.981381  0.468866  0.080558  0.033304  0.858699  0.409728        1  \n",
       "1    0.824373  0.409352  0.064793  0.020945  1.289160  0.743913        1  \n",
       "2    0.949092  0.491665  0.118332  0.044079  0.950600  0.352831        1  \n",
       "3    1.336406  0.810020  0.297323  0.083665  0.806387  0.306914        1  \n",
       "4    1.243455  0.625403  0.076218  0.036934  0.915804  0.326410        1  \n",
       "..        ...       ...       ...       ...       ...       ...      ...  \n",
       "595  0.065647  0.018355  0.148943  0.074309  0.080239  0.026171       10  \n",
       "596  0.084655  0.025758  0.354854  0.122393  0.077748  0.027056       10  \n",
       "597  0.116759  0.030673  0.359102  0.124286  0.093508  0.040680       10  \n",
       "598  0.073915  0.019743  0.109087  0.036656  0.209108  0.075640       10  \n",
       "599  0.047745  0.011707  0.351584  0.129245  0.178806  0.062375       10  \n",
       "\n",
       "[600 rows x 25 columns]"
      ]
     },
     "execution_count": 250,
     "metadata": {},
     "output_type": "execute_result"
    }
   ],
   "source": [
    "dfewt"
   ]
  },
  {
   "cell_type": "code",
   "execution_count": 251,
   "id": "cfa4c0e5",
   "metadata": {},
   "outputs": [
    {
     "name": "stdout",
     "output_type": "stream",
     "text": [
      "<class 'pandas.core.frame.DataFrame'>\n",
      "RangeIndex: 7200 entries, 0 to 7199\n",
      "Data columns (total 15 columns):\n",
      " #   Column   Non-Null Count  Dtype  \n",
      "---  ------   --------------  -----  \n",
      " 0   tf1efd   7200 non-null   float64\n",
      " 1   tf2efd   7200 non-null   float64\n",
      " 2   tf3efd   7200 non-null   float64\n",
      " 3   tf4efd   7200 non-null   float64\n",
      " 4   tf5efd   7200 non-null   float64\n",
      " 5   tforg    7200 non-null   float64\n",
      " 6   tf1ewt   7200 non-null   float64\n",
      " 7   tf2ewt   7200 non-null   float64\n",
      " 8   tf3ewt   7200 non-null   float64\n",
      " 9   tf4ewt   7200 non-null   float64\n",
      " 10  tf5ewt   7200 non-null   float64\n",
      " 11  Subject  7200 non-null   object \n",
      " 12  Channel  7200 non-null   int64  \n",
      " 13  Gesture  7200 non-null   int64  \n",
      " 14  Rep      7200 non-null   int64  \n",
      "dtypes: float64(11), int64(3), object(1)\n",
      "memory usage: 843.9+ KB\n"
     ]
    }
   ],
   "source": [
    "df.info()"
   ]
  },
  {
   "cell_type": "code",
   "execution_count": 252,
   "id": "c1d837d6",
   "metadata": {},
   "outputs": [],
   "source": [
    "import warnings\n",
    "warnings.filterwarnings('ignore')"
   ]
  },
  {
   "cell_type": "code",
   "execution_count": 253,
   "id": "1ecf9dde",
   "metadata": {},
   "outputs": [],
   "source": [
    "import numpy as np\n",
    "import pandas as pd\n",
    "from sklearn.model_selection import train_test_split\n",
    "from sklearn.svm import SVC\n",
    "from sklearn.metrics import accuracy_score\n",
    "import matplotlib.pyplot as plt"
   ]
  },
  {
   "cell_type": "markdown",
   "id": "44b16526",
   "metadata": {},
   "source": [
    "### Random Forest\n",
    "\n",
    "#### EFD"
   ]
  },
  {
   "cell_type": "code",
   "execution_count": 254,
   "id": "ae7d854b",
   "metadata": {},
   "outputs": [],
   "source": [
    "x=dfedf.drop('Gesture',axis=1)\n",
    "y=dfedf['Gesture']\n",
    "\n",
    "x_train, x_test, y_train, y_test = train_test_split(x, y, test_size=0.2)"
   ]
  },
  {
   "cell_type": "code",
   "execution_count": 255,
   "id": "3890441c",
   "metadata": {},
   "outputs": [],
   "source": [
    "from sklearn.model_selection import KFold, cross_val_score\n",
    "from sklearn.ensemble import RandomForestClassifier"
   ]
  },
  {
   "cell_type": "code",
   "execution_count": 256,
   "id": "b3d8dbee",
   "metadata": {},
   "outputs": [
    {
     "data": {
      "text/plain": [
       "RandomForestClassifier()"
      ]
     },
     "execution_count": 256,
     "metadata": {},
     "output_type": "execute_result"
    }
   ],
   "source": [
    "rfc = RandomForestClassifier()\n",
    "rfc.fit(x_train, y_train)"
   ]
  },
  {
   "cell_type": "code",
   "execution_count": 257,
   "id": "88148698",
   "metadata": {},
   "outputs": [
    {
     "data": {
      "text/plain": [
       "1.0"
      ]
     },
     "execution_count": 257,
     "metadata": {},
     "output_type": "execute_result"
    }
   ],
   "source": [
    "rfc.score(x_train, y_train)"
   ]
  },
  {
   "cell_type": "code",
   "execution_count": 258,
   "id": "7f482f96",
   "metadata": {},
   "outputs": [
    {
     "data": {
      "text/plain": [
       "0.4"
      ]
     },
     "execution_count": 258,
     "metadata": {},
     "output_type": "execute_result"
    }
   ],
   "source": [
    "rfc.score(x_test, y_test)"
   ]
  },
  {
   "cell_type": "markdown",
   "id": "2595d214",
   "metadata": {},
   "source": [
    "#### EWT"
   ]
  },
  {
   "cell_type": "code",
   "execution_count": 259,
   "id": "836fccc3",
   "metadata": {},
   "outputs": [],
   "source": [
    "x=dfewt.drop('Gesture',axis=1)\n",
    "y=dfewt['Gesture']\n",
    "\n",
    "x_train, x_test, y_train, y_test = train_test_split(x, y, test_size=0.2)"
   ]
  },
  {
   "cell_type": "code",
   "execution_count": 260,
   "id": "4e1771a4",
   "metadata": {},
   "outputs": [
    {
     "data": {
      "text/plain": [
       "RandomForestClassifier()"
      ]
     },
     "execution_count": 260,
     "metadata": {},
     "output_type": "execute_result"
    }
   ],
   "source": [
    "rfc2 = RandomForestClassifier()\n",
    "rfc2.fit(x_train, y_train)"
   ]
  },
  {
   "cell_type": "code",
   "execution_count": 261,
   "id": "c6eb2536",
   "metadata": {},
   "outputs": [
    {
     "data": {
      "text/plain": [
       "1.0"
      ]
     },
     "execution_count": 261,
     "metadata": {},
     "output_type": "execute_result"
    }
   ],
   "source": [
    "rfc2.score(x_train, y_train)"
   ]
  },
  {
   "cell_type": "code",
   "execution_count": 262,
   "id": "ed5c9e8e",
   "metadata": {},
   "outputs": [
    {
     "data": {
      "text/plain": [
       "0.6"
      ]
     },
     "execution_count": 262,
     "metadata": {},
     "output_type": "execute_result"
    }
   ],
   "source": [
    "rfc2.score(x_test, y_test)"
   ]
  },
  {
   "cell_type": "markdown",
   "id": "aaf261a2",
   "metadata": {},
   "source": [
    "#### ORG"
   ]
  },
  {
   "cell_type": "code",
   "execution_count": 263,
   "id": "1c763033",
   "metadata": {},
   "outputs": [],
   "source": [
    "x=dforg.drop('Gesture',axis=1)\n",
    "y=dforg['Gesture']\n",
    "\n",
    "x_train, x_test, y_train, y_test = train_test_split(x, y, test_size=0.2)"
   ]
  },
  {
   "cell_type": "code",
   "execution_count": 264,
   "id": "f757bfd4",
   "metadata": {},
   "outputs": [
    {
     "data": {
      "text/plain": [
       "RandomForestClassifier()"
      ]
     },
     "execution_count": 264,
     "metadata": {},
     "output_type": "execute_result"
    }
   ],
   "source": [
    "rfc2 = RandomForestClassifier()\n",
    "rfc2.fit(x_train, y_train)"
   ]
  },
  {
   "cell_type": "code",
   "execution_count": 265,
   "id": "970014a0",
   "metadata": {},
   "outputs": [
    {
     "data": {
      "text/plain": [
       "1.0"
      ]
     },
     "execution_count": 265,
     "metadata": {},
     "output_type": "execute_result"
    }
   ],
   "source": [
    "rfc2.score(x_train, y_train)"
   ]
  },
  {
   "cell_type": "code",
   "execution_count": 266,
   "id": "fbfc7185",
   "metadata": {},
   "outputs": [
    {
     "data": {
      "text/plain": [
       "0.6416666666666667"
      ]
     },
     "execution_count": 266,
     "metadata": {},
     "output_type": "execute_result"
    }
   ],
   "source": [
    "rfc2.score(x_test, y_test)"
   ]
  },
  {
   "cell_type": "markdown",
   "id": "cd4611fd",
   "metadata": {},
   "source": [
    "### SMV\n",
    "\n",
    "#### EFD"
   ]
  },
  {
   "cell_type": "code",
   "execution_count": 267,
   "id": "9b0b07e1",
   "metadata": {},
   "outputs": [],
   "source": [
    "x=dfedf.drop('Gesture',axis=1)\n",
    "y=dfedf['Gesture']\n",
    "\n",
    "x_train, x_test, y_train, y_test = train_test_split(x, y, test_size=0.2)"
   ]
  },
  {
   "cell_type": "code",
   "execution_count": 268,
   "id": "cfdbb36e",
   "metadata": {},
   "outputs": [
    {
     "data": {
      "text/plain": [
       "SVC()"
      ]
     },
     "execution_count": 268,
     "metadata": {},
     "output_type": "execute_result"
    }
   ],
   "source": [
    "from sklearn.svm import SVC\n",
    "svc_model = SVC()\n",
    "svc_model.fit(x_train, y_train)"
   ]
  },
  {
   "cell_type": "code",
   "execution_count": 269,
   "id": "c13e1527",
   "metadata": {},
   "outputs": [
    {
     "data": {
      "text/plain": [
       "0.60625"
      ]
     },
     "execution_count": 269,
     "metadata": {},
     "output_type": "execute_result"
    }
   ],
   "source": [
    "svc_model.score(x_train, y_train)"
   ]
  },
  {
   "cell_type": "code",
   "execution_count": 270,
   "id": "584eba92",
   "metadata": {},
   "outputs": [
    {
     "data": {
      "text/plain": [
       "0.30833333333333335"
      ]
     },
     "execution_count": 270,
     "metadata": {},
     "output_type": "execute_result"
    }
   ],
   "source": [
    "svc_model.score(x_test, y_test)"
   ]
  },
  {
   "cell_type": "markdown",
   "id": "5ff76d75",
   "metadata": {},
   "source": [
    "#### EWT"
   ]
  },
  {
   "cell_type": "code",
   "execution_count": 271,
   "id": "e008d54f",
   "metadata": {},
   "outputs": [],
   "source": [
    "x=dfewt.drop('Gesture',axis=1)\n",
    "y=dfewt['Gesture']\n",
    "\n",
    "x_train, x_test, y_train, y_test = train_test_split(x, y, test_size=0.2)"
   ]
  },
  {
   "cell_type": "code",
   "execution_count": 272,
   "id": "8547e5e8",
   "metadata": {},
   "outputs": [
    {
     "data": {
      "text/plain": [
       "SVC()"
      ]
     },
     "execution_count": 272,
     "metadata": {},
     "output_type": "execute_result"
    }
   ],
   "source": [
    "from sklearn.svm import SVC\n",
    "svc_model = SVC()\n",
    "svc_model.fit(x_train, y_train)"
   ]
  },
  {
   "cell_type": "code",
   "execution_count": 273,
   "id": "27c8a8dc",
   "metadata": {},
   "outputs": [
    {
     "data": {
      "text/plain": [
       "0.6625"
      ]
     },
     "execution_count": 273,
     "metadata": {},
     "output_type": "execute_result"
    }
   ],
   "source": [
    "svc_model.score(x_train, y_train)"
   ]
  },
  {
   "cell_type": "code",
   "execution_count": 274,
   "id": "ac55c9b5",
   "metadata": {},
   "outputs": [
    {
     "data": {
      "text/plain": [
       "0.4666666666666667"
      ]
     },
     "execution_count": 274,
     "metadata": {},
     "output_type": "execute_result"
    }
   ],
   "source": [
    "svc_model.score(x_test, y_test)"
   ]
  },
  {
   "cell_type": "markdown",
   "id": "671f5ebe",
   "metadata": {},
   "source": [
    "#### ORG"
   ]
  },
  {
   "cell_type": "code",
   "execution_count": 275,
   "id": "b4bc0513",
   "metadata": {},
   "outputs": [],
   "source": [
    "x=dforg.drop('Gesture',axis=1)\n",
    "y=dforg['Gesture']\n",
    "\n",
    "x_train, x_test, y_train, y_test = train_test_split(x, y, test_size=0.2)"
   ]
  },
  {
   "cell_type": "code",
   "execution_count": 276,
   "id": "bbc4c336",
   "metadata": {},
   "outputs": [
    {
     "data": {
      "text/plain": [
       "SVC()"
      ]
     },
     "execution_count": 276,
     "metadata": {},
     "output_type": "execute_result"
    }
   ],
   "source": [
    "from sklearn.svm import SVC\n",
    "svc_model = SVC()\n",
    "svc_model.fit(x_train, y_train)"
   ]
  },
  {
   "cell_type": "code",
   "execution_count": 277,
   "id": "002699cb",
   "metadata": {},
   "outputs": [
    {
     "data": {
      "text/plain": [
       "0.51875"
      ]
     },
     "execution_count": 277,
     "metadata": {},
     "output_type": "execute_result"
    }
   ],
   "source": [
    "svc_model.score(x_train, y_train)"
   ]
  },
  {
   "cell_type": "code",
   "execution_count": 278,
   "id": "38663dad",
   "metadata": {},
   "outputs": [
    {
     "data": {
      "text/plain": [
       "0.3416666666666667"
      ]
     },
     "execution_count": 278,
     "metadata": {},
     "output_type": "execute_result"
    }
   ],
   "source": [
    "svc_model.score(x_test, y_test)"
   ]
  },
  {
   "cell_type": "markdown",
   "id": "1bbdf983",
   "metadata": {},
   "source": [
    "### Neural Networks\n",
    "\n",
    "#### EFD"
   ]
  },
  {
   "cell_type": "code",
   "execution_count": 279,
   "id": "61ad67bb",
   "metadata": {},
   "outputs": [],
   "source": [
    "x=dfedf.drop('Gesture',axis=1)\n",
    "y=dfedf['Gesture']\n",
    "\n",
    "x_train, x_test, y_train, y_test = train_test_split(x, y, test_size=0.2)"
   ]
  },
  {
   "cell_type": "code",
   "execution_count": 280,
   "id": "1ee2e3e9",
   "metadata": {},
   "outputs": [],
   "source": [
    "from sklearn.neural_network import MLPClassifier\n",
    "clf = MLPClassifier(random_state=1, max_iter=600).fit(x_train, y_train)"
   ]
  },
  {
   "cell_type": "code",
   "execution_count": 281,
   "id": "4fbda386",
   "metadata": {},
   "outputs": [
    {
     "data": {
      "text/plain": [
       "0.8208333333333333"
      ]
     },
     "execution_count": 281,
     "metadata": {},
     "output_type": "execute_result"
    }
   ],
   "source": [
    "clf.score(x_train, y_train)"
   ]
  },
  {
   "cell_type": "code",
   "execution_count": 282,
   "id": "b18c2a42",
   "metadata": {},
   "outputs": [
    {
     "data": {
      "text/plain": [
       "0.35833333333333334"
      ]
     },
     "execution_count": 282,
     "metadata": {},
     "output_type": "execute_result"
    }
   ],
   "source": [
    "clf.score(x_test, y_test)"
   ]
  },
  {
   "cell_type": "markdown",
   "id": "7aeb6489",
   "metadata": {},
   "source": [
    "#### EWT"
   ]
  },
  {
   "cell_type": "code",
   "execution_count": 283,
   "id": "deaf74c8",
   "metadata": {},
   "outputs": [],
   "source": [
    "x=dfewt.drop('Gesture',axis=1)\n",
    "y=dfewt['Gesture']\n",
    "\n",
    "x_train, x_test, y_train, y_test = train_test_split(x, y, test_size=0.2)"
   ]
  },
  {
   "cell_type": "code",
   "execution_count": 284,
   "id": "353e7f9b",
   "metadata": {},
   "outputs": [],
   "source": [
    "clf = MLPClassifier(random_state=1, max_iter=600).fit(x_train, y_train)"
   ]
  },
  {
   "cell_type": "code",
   "execution_count": 285,
   "id": "6af7e908",
   "metadata": {},
   "outputs": [
    {
     "data": {
      "text/plain": [
       "0.8291666666666667"
      ]
     },
     "execution_count": 285,
     "metadata": {},
     "output_type": "execute_result"
    }
   ],
   "source": [
    "clf.score(x_train, y_train)"
   ]
  },
  {
   "cell_type": "code",
   "execution_count": 286,
   "id": "30697d4b",
   "metadata": {},
   "outputs": [
    {
     "data": {
      "text/plain": [
       "0.45"
      ]
     },
     "execution_count": 286,
     "metadata": {},
     "output_type": "execute_result"
    }
   ],
   "source": [
    "clf.score(x_test, y_test)"
   ]
  },
  {
   "cell_type": "markdown",
   "id": "a94ba1f0",
   "metadata": {},
   "source": [
    "#### ORG"
   ]
  },
  {
   "cell_type": "code",
   "execution_count": 287,
   "id": "fb2565c1",
   "metadata": {},
   "outputs": [],
   "source": [
    "x=dforg.drop('Gesture',axis=1)\n",
    "y=dforg['Gesture']\n",
    "\n",
    "x_train, x_test, y_train, y_test = train_test_split(x, y, test_size=0.2)"
   ]
  },
  {
   "cell_type": "code",
   "execution_count": 288,
   "id": "5facfcbe",
   "metadata": {},
   "outputs": [],
   "source": [
    "clf = MLPClassifier(random_state=1, max_iter=600).fit(x_train, y_train)"
   ]
  },
  {
   "cell_type": "code",
   "execution_count": 289,
   "id": "a3eb614c",
   "metadata": {},
   "outputs": [
    {
     "data": {
      "text/plain": [
       "0.25625"
      ]
     },
     "execution_count": 289,
     "metadata": {},
     "output_type": "execute_result"
    }
   ],
   "source": [
    "clf.score(x_train, y_train)"
   ]
  },
  {
   "cell_type": "code",
   "execution_count": 290,
   "id": "0553cab7",
   "metadata": {},
   "outputs": [
    {
     "data": {
      "text/plain": [
       "0.20833333333333334"
      ]
     },
     "execution_count": 290,
     "metadata": {},
     "output_type": "execute_result"
    }
   ],
   "source": [
    "clf.score(x_test, y_test)"
   ]
  },
  {
   "cell_type": "code",
   "execution_count": null,
   "id": "f3ab652c",
   "metadata": {},
   "outputs": [],
   "source": []
  }
 ],
 "metadata": {
  "kernelspec": {
   "display_name": "Python 3 (ipykernel)",
   "language": "python",
   "name": "python3"
  },
  "language_info": {
   "codemirror_mode": {
    "name": "ipython",
    "version": 3
   },
   "file_extension": ".py",
   "mimetype": "text/x-python",
   "name": "python",
   "nbconvert_exporter": "python",
   "pygments_lexer": "ipython3",
   "version": "3.9.12"
  }
 },
 "nbformat": 4,
 "nbformat_minor": 5
}
