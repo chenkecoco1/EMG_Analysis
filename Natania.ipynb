{
 "cells": [
  {
   "cell_type": "markdown",
   "id": "f37d05c9",
   "metadata": {},
   "source": [
    "# Natania's Data"
   ]
  },
  {
   "cell_type": "markdown",
   "id": "9535bbb9",
   "metadata": {},
   "source": [
    "## Load data"
   ]
  },
  {
   "cell_type": "code",
   "execution_count": 46,
   "id": "9e9a7378",
   "metadata": {},
   "outputs": [],
   "source": [
    "import pandas as pd\n",
    "# read my local data\n",
    "df = pd.read_excel(r'C:\\Users\\16468\\Desktop\\STROKE literatures\\Natania\\nb_all.xlsx')"
   ]
  },
  {
   "cell_type": "code",
   "execution_count": 47,
   "id": "05f2f817",
   "metadata": {},
   "outputs": [
    {
     "data": {
      "text/html": [
       "<div>\n",
       "<style scoped>\n",
       "    .dataframe tbody tr th:only-of-type {\n",
       "        vertical-align: middle;\n",
       "    }\n",
       "\n",
       "    .dataframe tbody tr th {\n",
       "        vertical-align: top;\n",
       "    }\n",
       "\n",
       "    .dataframe thead th {\n",
       "        text-align: right;\n",
       "    }\n",
       "</style>\n",
       "<table border=\"1\" class=\"dataframe\">\n",
       "  <thead>\n",
       "    <tr style=\"text-align: right;\">\n",
       "      <th></th>\n",
       "      <th>b 1</th>\n",
       "      <th>b 2</th>\n",
       "      <th>fist 1</th>\n",
       "      <th>fist 2</th>\n",
       "      <th>index 1</th>\n",
       "      <th>index 2</th>\n",
       "      <th>pinch 1</th>\n",
       "      <th>pinch 2</th>\n",
       "      <th>three 1</th>\n",
       "      <th>three 2</th>\n",
       "      <th>...</th>\n",
       "      <th>26 1</th>\n",
       "      <th>26 2</th>\n",
       "      <th>29 1</th>\n",
       "      <th>29 2</th>\n",
       "      <th>35 1</th>\n",
       "      <th>35 2</th>\n",
       "      <th>37 1</th>\n",
       "      <th>37 2</th>\n",
       "      <th>38 1</th>\n",
       "      <th>38 2</th>\n",
       "    </tr>\n",
       "  </thead>\n",
       "  <tbody>\n",
       "    <tr>\n",
       "      <th>0</th>\n",
       "      <td>0</td>\n",
       "      <td>0</td>\n",
       "      <td>0</td>\n",
       "      <td>0</td>\n",
       "      <td>0</td>\n",
       "      <td>0</td>\n",
       "      <td>20</td>\n",
       "      <td>10</td>\n",
       "      <td>20</td>\n",
       "      <td>0</td>\n",
       "      <td>...</td>\n",
       "      <td>0</td>\n",
       "      <td>0</td>\n",
       "      <td>0</td>\n",
       "      <td>15</td>\n",
       "      <td>5</td>\n",
       "      <td>5</td>\n",
       "      <td>10</td>\n",
       "      <td>0</td>\n",
       "      <td>20</td>\n",
       "      <td>1</td>\n",
       "    </tr>\n",
       "    <tr>\n",
       "      <th>1</th>\n",
       "      <td>20</td>\n",
       "      <td>5</td>\n",
       "      <td>15</td>\n",
       "      <td>5</td>\n",
       "      <td>15</td>\n",
       "      <td>0</td>\n",
       "      <td>20</td>\n",
       "      <td>10</td>\n",
       "      <td>20</td>\n",
       "      <td>0</td>\n",
       "      <td>...</td>\n",
       "      <td>20</td>\n",
       "      <td>15</td>\n",
       "      <td>20</td>\n",
       "      <td>0</td>\n",
       "      <td>20</td>\n",
       "      <td>5</td>\n",
       "      <td>20</td>\n",
       "      <td>10</td>\n",
       "      <td>15</td>\n",
       "      <td>5</td>\n",
       "    </tr>\n",
       "    <tr>\n",
       "      <th>2</th>\n",
       "      <td>20</td>\n",
       "      <td>5</td>\n",
       "      <td>20</td>\n",
       "      <td>10</td>\n",
       "      <td>15</td>\n",
       "      <td>0</td>\n",
       "      <td>20</td>\n",
       "      <td>5</td>\n",
       "      <td>20</td>\n",
       "      <td>5</td>\n",
       "      <td>...</td>\n",
       "      <td>20</td>\n",
       "      <td>15</td>\n",
       "      <td>15</td>\n",
       "      <td>0</td>\n",
       "      <td>15</td>\n",
       "      <td>5</td>\n",
       "      <td>20</td>\n",
       "      <td>10</td>\n",
       "      <td>15</td>\n",
       "      <td>0</td>\n",
       "    </tr>\n",
       "    <tr>\n",
       "      <th>3</th>\n",
       "      <td>20</td>\n",
       "      <td>5</td>\n",
       "      <td>20</td>\n",
       "      <td>5</td>\n",
       "      <td>15</td>\n",
       "      <td>0</td>\n",
       "      <td>20</td>\n",
       "      <td>5</td>\n",
       "      <td>20</td>\n",
       "      <td>0</td>\n",
       "      <td>...</td>\n",
       "      <td>20</td>\n",
       "      <td>15</td>\n",
       "      <td>20</td>\n",
       "      <td>5</td>\n",
       "      <td>15</td>\n",
       "      <td>0</td>\n",
       "      <td>20</td>\n",
       "      <td>10</td>\n",
       "      <td>15</td>\n",
       "      <td>5</td>\n",
       "    </tr>\n",
       "    <tr>\n",
       "      <th>4</th>\n",
       "      <td>20</td>\n",
       "      <td>5</td>\n",
       "      <td>20</td>\n",
       "      <td>10</td>\n",
       "      <td>15</td>\n",
       "      <td>0</td>\n",
       "      <td>20</td>\n",
       "      <td>5</td>\n",
       "      <td>20</td>\n",
       "      <td>0</td>\n",
       "      <td>...</td>\n",
       "      <td>25</td>\n",
       "      <td>15</td>\n",
       "      <td>20</td>\n",
       "      <td>0</td>\n",
       "      <td>20</td>\n",
       "      <td>5</td>\n",
       "      <td>20</td>\n",
       "      <td>10</td>\n",
       "      <td>20</td>\n",
       "      <td>5</td>\n",
       "    </tr>\n",
       "  </tbody>\n",
       "</table>\n",
       "<p>5 rows × 30 columns</p>\n",
       "</div>"
      ],
      "text/plain": [
       "   b 1  b 2  fist 1  fist 2  index 1  index 2  pinch 1  pinch 2  three 1  \\\n",
       "0    0    0       0       0        0        0       20       10       20   \n",
       "1   20    5      15       5       15        0       20       10       20   \n",
       "2   20    5      20      10       15        0       20        5       20   \n",
       "3   20    5      20       5       15        0       20        5       20   \n",
       "4   20    5      20      10       15        0       20        5       20   \n",
       "\n",
       "   three 2  ...  26 1  26 2  29 1  29 2  35 1  35 2  37 1  37 2  38 1  38 2  \n",
       "0        0  ...     0     0     0    15     5     5    10     0    20     1  \n",
       "1        0  ...    20    15    20     0    20     5    20    10    15     5  \n",
       "2        5  ...    20    15    15     0    15     5    20    10    15     0  \n",
       "3        0  ...    20    15    20     5    15     0    20    10    15     5  \n",
       "4        0  ...    25    15    20     0    20     5    20    10    20     5  \n",
       "\n",
       "[5 rows x 30 columns]"
      ]
     },
     "execution_count": 47,
     "metadata": {},
     "output_type": "execute_result"
    }
   ],
   "source": [
    "df.head()"
   ]
  },
  {
   "cell_type": "code",
   "execution_count": 48,
   "id": "f1a33d15",
   "metadata": {},
   "outputs": [],
   "source": [
    "#get the data for first trial\n",
    "df1=df.iloc[229:660,:]"
   ]
  },
  {
   "cell_type": "code",
   "execution_count": 49,
   "id": "992407e1",
   "metadata": {},
   "outputs": [
    {
     "data": {
      "text/html": [
       "<div>\n",
       "<style scoped>\n",
       "    .dataframe tbody tr th:only-of-type {\n",
       "        vertical-align: middle;\n",
       "    }\n",
       "\n",
       "    .dataframe tbody tr th {\n",
       "        vertical-align: top;\n",
       "    }\n",
       "\n",
       "    .dataframe thead th {\n",
       "        text-align: right;\n",
       "    }\n",
       "</style>\n",
       "<table border=\"1\" class=\"dataframe\">\n",
       "  <thead>\n",
       "    <tr style=\"text-align: right;\">\n",
       "      <th></th>\n",
       "      <th>b 1</th>\n",
       "      <th>b 2</th>\n",
       "      <th>fist 1</th>\n",
       "      <th>fist 2</th>\n",
       "      <th>index 1</th>\n",
       "      <th>index 2</th>\n",
       "      <th>pinch 1</th>\n",
       "      <th>pinch 2</th>\n",
       "      <th>three 1</th>\n",
       "      <th>three 2</th>\n",
       "      <th>...</th>\n",
       "      <th>26 1</th>\n",
       "      <th>26 2</th>\n",
       "      <th>29 1</th>\n",
       "      <th>29 2</th>\n",
       "      <th>35 1</th>\n",
       "      <th>35 2</th>\n",
       "      <th>37 1</th>\n",
       "      <th>37 2</th>\n",
       "      <th>38 1</th>\n",
       "      <th>38 2</th>\n",
       "    </tr>\n",
       "  </thead>\n",
       "  <tbody>\n",
       "    <tr>\n",
       "      <th>229</th>\n",
       "      <td>15</td>\n",
       "      <td>0</td>\n",
       "      <td>15</td>\n",
       "      <td>20</td>\n",
       "      <td>25</td>\n",
       "      <td>10</td>\n",
       "      <td>10</td>\n",
       "      <td>20</td>\n",
       "      <td>20</td>\n",
       "      <td>5</td>\n",
       "      <td>...</td>\n",
       "      <td>0</td>\n",
       "      <td>25</td>\n",
       "      <td>15</td>\n",
       "      <td>10</td>\n",
       "      <td>10</td>\n",
       "      <td>5</td>\n",
       "      <td>25</td>\n",
       "      <td>10</td>\n",
       "      <td>20</td>\n",
       "      <td>5</td>\n",
       "    </tr>\n",
       "    <tr>\n",
       "      <th>230</th>\n",
       "      <td>15</td>\n",
       "      <td>0</td>\n",
       "      <td>10</td>\n",
       "      <td>20</td>\n",
       "      <td>25</td>\n",
       "      <td>10</td>\n",
       "      <td>5</td>\n",
       "      <td>30</td>\n",
       "      <td>20</td>\n",
       "      <td>5</td>\n",
       "      <td>...</td>\n",
       "      <td>5</td>\n",
       "      <td>30</td>\n",
       "      <td>10</td>\n",
       "      <td>5</td>\n",
       "      <td>5</td>\n",
       "      <td>0</td>\n",
       "      <td>25</td>\n",
       "      <td>10</td>\n",
       "      <td>15</td>\n",
       "      <td>0</td>\n",
       "    </tr>\n",
       "    <tr>\n",
       "      <th>231</th>\n",
       "      <td>15</td>\n",
       "      <td>0</td>\n",
       "      <td>20</td>\n",
       "      <td>25</td>\n",
       "      <td>20</td>\n",
       "      <td>5</td>\n",
       "      <td>15</td>\n",
       "      <td>40</td>\n",
       "      <td>15</td>\n",
       "      <td>5</td>\n",
       "      <td>...</td>\n",
       "      <td>10</td>\n",
       "      <td>20</td>\n",
       "      <td>0</td>\n",
       "      <td>10</td>\n",
       "      <td>5</td>\n",
       "      <td>0</td>\n",
       "      <td>20</td>\n",
       "      <td>10</td>\n",
       "      <td>25</td>\n",
       "      <td>0</td>\n",
       "    </tr>\n",
       "    <tr>\n",
       "      <th>232</th>\n",
       "      <td>15</td>\n",
       "      <td>5</td>\n",
       "      <td>25</td>\n",
       "      <td>30</td>\n",
       "      <td>25</td>\n",
       "      <td>5</td>\n",
       "      <td>10</td>\n",
       "      <td>40</td>\n",
       "      <td>15</td>\n",
       "      <td>5</td>\n",
       "      <td>...</td>\n",
       "      <td>15</td>\n",
       "      <td>15</td>\n",
       "      <td>10</td>\n",
       "      <td>5</td>\n",
       "      <td>5</td>\n",
       "      <td>5</td>\n",
       "      <td>15</td>\n",
       "      <td>5</td>\n",
       "      <td>20</td>\n",
       "      <td>0</td>\n",
       "    </tr>\n",
       "    <tr>\n",
       "      <th>233</th>\n",
       "      <td>15</td>\n",
       "      <td>5</td>\n",
       "      <td>20</td>\n",
       "      <td>25</td>\n",
       "      <td>25</td>\n",
       "      <td>5</td>\n",
       "      <td>10</td>\n",
       "      <td>20</td>\n",
       "      <td>15</td>\n",
       "      <td>5</td>\n",
       "      <td>...</td>\n",
       "      <td>20</td>\n",
       "      <td>10</td>\n",
       "      <td>20</td>\n",
       "      <td>0</td>\n",
       "      <td>0</td>\n",
       "      <td>15</td>\n",
       "      <td>10</td>\n",
       "      <td>0</td>\n",
       "      <td>30</td>\n",
       "      <td>5</td>\n",
       "    </tr>\n",
       "  </tbody>\n",
       "</table>\n",
       "<p>5 rows × 30 columns</p>\n",
       "</div>"
      ],
      "text/plain": [
       "     b 1  b 2  fist 1  fist 2  index 1  index 2  pinch 1  pinch 2  three 1  \\\n",
       "229   15    0      15      20       25       10       10       20       20   \n",
       "230   15    0      10      20       25       10        5       30       20   \n",
       "231   15    0      20      25       20        5       15       40       15   \n",
       "232   15    5      25      30       25        5       10       40       15   \n",
       "233   15    5      20      25       25        5       10       20       15   \n",
       "\n",
       "     three 2  ...  26 1  26 2  29 1  29 2  35 1  35 2  37 1  37 2  38 1  38 2  \n",
       "229        5  ...     0    25    15    10    10     5    25    10    20     5  \n",
       "230        5  ...     5    30    10     5     5     0    25    10    15     0  \n",
       "231        5  ...    10    20     0    10     5     0    20    10    25     0  \n",
       "232        5  ...    15    15    10     5     5     5    15     5    20     0  \n",
       "233        5  ...    20    10    20     0     0    15    10     0    30     5  \n",
       "\n",
       "[5 rows x 30 columns]"
      ]
     },
     "execution_count": 49,
     "metadata": {},
     "output_type": "execute_result"
    }
   ],
   "source": [
    "df1.head()"
   ]
  },
  {
   "cell_type": "markdown",
   "id": "f5390194",
   "metadata": {},
   "source": [
    "## Regression Senario 1 (two channels are independent)\n",
    "Alphabetic gestures channel 1 (x11 to x15)------> Grasp 18 channel 1 (y1)<br>\n",
    "Alphabetic gestures channel 2 (x21 to x25)------> Grasp 18 channel 2 (y2)"
   ]
  },
  {
   "cell_type": "code",
   "execution_count": 50,
   "id": "357d2e71",
   "metadata": {},
   "outputs": [],
   "source": [
    "import numpy as np\n",
    "from sklearn.linear_model import LinearRegression"
   ]
  },
  {
   "cell_type": "code",
   "execution_count": 51,
   "id": "b62f58f0",
   "metadata": {},
   "outputs": [],
   "source": [
    "# get the x and y\n",
    "x1=df1[['b 1','fist 1','index 1','pinch 1','three 1']]\n",
    "x2=df1[['b 2','fist 2','index 2','pinch 2','three 2']]\n",
    "y1=df1['18 1']\n",
    "y2=df1['18 2']"
   ]
  },
  {
   "cell_type": "code",
   "execution_count": 52,
   "id": "74c1058a",
   "metadata": {},
   "outputs": [],
   "source": [
    "# fit regression line\n",
    "reg1 = LinearRegression().fit(x1, y1)\n",
    "reg2 = LinearRegression().fit(x2, y2)"
   ]
  },
  {
   "cell_type": "code",
   "execution_count": 54,
   "id": "8f62ef1a",
   "metadata": {},
   "outputs": [
    {
     "name": "stdout",
     "output_type": "stream",
     "text": [
      "6.378991429693933\n",
      "6.114586310043276\n"
     ]
    }
   ],
   "source": [
    "# intercept of the regression line of x1,y1\n",
    "print(reg1.intercept_)\n",
    "# intercept of the regression line of x2,y2\n",
    "print(reg2.intercept_)"
   ]
  },
  {
   "cell_type": "code",
   "execution_count": 55,
   "id": "3cfed258",
   "metadata": {},
   "outputs": [
    {
     "name": "stdout",
     "output_type": "stream",
     "text": [
      "[ 0.76755046 -0.00801205 -0.42026     0.34244458 -0.07282228]\n",
      "[-0.00078889 -0.10447702  0.47847506 -0.06323085 -0.04914328]\n"
     ]
    }
   ],
   "source": [
    "# coefficient of y1=f(x1)\n",
    "print(reg1.coef_)\n",
    "# coefficient of y2=g(x2)\n",
    "print(reg2.coef_)"
   ]
  },
  {
   "cell_type": "markdown",
   "id": "17ff2441",
   "metadata": {},
   "source": [
    "## Regression Senario 2 (Multioutput regression)\n",
    "Alphabetic gestures channel 1 (x1 to x10)------> Grasp 18 channel 1 (y1) AND Alphabetic gestures channel 2 (x1 to x10)------> Grasp 18 channel 2 (y2)<br>\n",
    "Get (y1, y2)"
   ]
  },
  {
   "cell_type": "code",
   "execution_count": 56,
   "id": "e9a17e3b",
   "metadata": {},
   "outputs": [],
   "source": [
    "from sklearn.datasets import make_regression\n",
    "from sklearn.model_selection import train_test_split\n",
    "from sklearn.multioutput import MultiOutputRegressor"
   ]
  },
  {
   "cell_type": "code",
   "execution_count": 59,
   "id": "7de2d1ed",
   "metadata": {},
   "outputs": [],
   "source": [
    "# get variables\n",
    "y=df1[['18 1','18 2']]\n",
    "X=df1[['b 1','fist 1','index 1','pinch 1','three 1','b 2','fist 2','index 2','pinch 2','three 2']]"
   ]
  },
  {
   "cell_type": "code",
   "execution_count": 60,
   "id": "e9a48326",
   "metadata": {},
   "outputs": [],
   "source": [
    "# Set the model and fit\n",
    "model = LinearRegression()"
   ]
  },
  {
   "cell_type": "code",
   "execution_count": 61,
   "id": "0ae16e1b",
   "metadata": {},
   "outputs": [
    {
     "data": {
      "text/plain": [
       "LinearRegression()"
      ]
     },
     "execution_count": 61,
     "metadata": {},
     "output_type": "execute_result"
    }
   ],
   "source": [
    "model.fit(X, y)"
   ]
  },
  {
   "cell_type": "code",
   "execution_count": 62,
   "id": "d189dc9e",
   "metadata": {},
   "outputs": [
    {
     "data": {
      "text/plain": [
       "array([[ 0.73588249, -0.06382268, -0.684659  ,  0.17694457, -0.02801451,\n",
       "         0.11343114,  0.05340338,  0.6139726 ,  0.32085469, -0.0117054 ],\n",
       "       [ 0.42592277,  0.01215313, -0.12400416,  0.0877766 ,  0.03086941,\n",
       "        -0.02070525, -0.08441255,  0.45244542, -0.03806123, -0.03722224]])"
      ]
     },
     "execution_count": 62,
     "metadata": {},
     "output_type": "execute_result"
    }
   ],
   "source": [
    "# get the coefficient of multioutput model\n",
    "model.coef_"
   ]
  },
  {
   "cell_type": "code",
   "execution_count": null,
   "id": "1bf83347",
   "metadata": {},
   "outputs": [],
   "source": []
  }
 ],
 "metadata": {
  "kernelspec": {
   "display_name": "Python 3 (ipykernel)",
   "language": "python",
   "name": "python3"
  },
  "language_info": {
   "codemirror_mode": {
    "name": "ipython",
    "version": 3
   },
   "file_extension": ".py",
   "mimetype": "text/x-python",
   "name": "python",
   "nbconvert_exporter": "python",
   "pygments_lexer": "ipython3",
   "version": "3.9.12"
  }
 },
 "nbformat": 4,
 "nbformat_minor": 5
}
