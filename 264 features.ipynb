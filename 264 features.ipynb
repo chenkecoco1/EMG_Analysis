{
 "cells": [
  {
   "cell_type": "markdown",
   "id": "4dd44b74",
   "metadata": {},
   "source": [
    "## FOR ORG SIGNAL"
   ]
  },
  {
   "cell_type": "code",
   "execution_count": 1,
   "id": "f65e38ac",
   "metadata": {},
   "outputs": [],
   "source": [
    "import pandas as pd\n",
    "df1 = pd.read_csv(r'C:\\Ninapro\\S13.csv')"
   ]
  },
  {
   "cell_type": "code",
   "execution_count": 2,
   "id": "54ba51d5",
   "metadata": {},
   "outputs": [
    {
     "data": {
      "text/html": [
       "<div>\n",
       "<style scoped>\n",
       "    .dataframe tbody tr th:only-of-type {\n",
       "        vertical-align: middle;\n",
       "    }\n",
       "\n",
       "    .dataframe tbody tr th {\n",
       "        vertical-align: top;\n",
       "    }\n",
       "\n",
       "    .dataframe thead th {\n",
       "        text-align: right;\n",
       "    }\n",
       "</style>\n",
       "<table border=\"1\" class=\"dataframe\">\n",
       "  <thead>\n",
       "    <tr style=\"text-align: right;\">\n",
       "      <th></th>\n",
       "      <th>ar1_ch1</th>\n",
       "      <th>ar2_ch1</th>\n",
       "      <th>ar3_ch1</th>\n",
       "      <th>ar4_ch1</th>\n",
       "      <th>ar5_ch1</th>\n",
       "      <th>ar6_ch1</th>\n",
       "      <th>ar7_ch1</th>\n",
       "      <th>ar1_ch2</th>\n",
       "      <th>ar2_ch2</th>\n",
       "      <th>ar3_ch2</th>\n",
       "      <th>...</th>\n",
       "      <th>nWL_ch4</th>\n",
       "      <th>nWL_ch5</th>\n",
       "      <th>nWL_ch6</th>\n",
       "      <th>nWL_ch7</th>\n",
       "      <th>nWL_ch8</th>\n",
       "      <th>nWL_ch9</th>\n",
       "      <th>nWL_ch10</th>\n",
       "      <th>nWL_ch11</th>\n",
       "      <th>nWL_ch12</th>\n",
       "      <th>LABEL</th>\n",
       "    </tr>\n",
       "  </thead>\n",
       "  <tbody>\n",
       "    <tr>\n",
       "      <th>0</th>\n",
       "      <td>-1.182340</td>\n",
       "      <td>0.093299</td>\n",
       "      <td>0.072635</td>\n",
       "      <td>0.039198</td>\n",
       "      <td>0.006551</td>\n",
       "      <td>-0.039820</td>\n",
       "      <td>0.031302</td>\n",
       "      <td>-1.271728</td>\n",
       "      <td>0.139938</td>\n",
       "      <td>0.110354</td>\n",
       "      <td>...</td>\n",
       "      <td>0.600374</td>\n",
       "      <td>1.596437</td>\n",
       "      <td>3.592119</td>\n",
       "      <td>1.074154</td>\n",
       "      <td>0.418833</td>\n",
       "      <td>0.246773</td>\n",
       "      <td>0.022748</td>\n",
       "      <td>10.721811</td>\n",
       "      <td>9.629430</td>\n",
       "      <td>Class1</td>\n",
       "    </tr>\n",
       "    <tr>\n",
       "      <th>1</th>\n",
       "      <td>-1.205252</td>\n",
       "      <td>0.114655</td>\n",
       "      <td>0.093001</td>\n",
       "      <td>0.033931</td>\n",
       "      <td>-0.006233</td>\n",
       "      <td>-0.016019</td>\n",
       "      <td>0.008666</td>\n",
       "      <td>-1.255108</td>\n",
       "      <td>0.121292</td>\n",
       "      <td>0.075767</td>\n",
       "      <td>...</td>\n",
       "      <td>0.565842</td>\n",
       "      <td>1.532060</td>\n",
       "      <td>3.556380</td>\n",
       "      <td>1.109444</td>\n",
       "      <td>0.464077</td>\n",
       "      <td>0.239252</td>\n",
       "      <td>0.021960</td>\n",
       "      <td>10.109793</td>\n",
       "      <td>9.308868</td>\n",
       "      <td>Class1</td>\n",
       "    </tr>\n",
       "    <tr>\n",
       "      <th>2</th>\n",
       "      <td>-1.283852</td>\n",
       "      <td>0.198909</td>\n",
       "      <td>0.122303</td>\n",
       "      <td>0.025071</td>\n",
       "      <td>-0.023390</td>\n",
       "      <td>-0.018506</td>\n",
       "      <td>-0.008881</td>\n",
       "      <td>-1.338118</td>\n",
       "      <td>0.200686</td>\n",
       "      <td>0.101438</td>\n",
       "      <td>...</td>\n",
       "      <td>0.525669</td>\n",
       "      <td>1.585926</td>\n",
       "      <td>3.863619</td>\n",
       "      <td>1.191270</td>\n",
       "      <td>0.492009</td>\n",
       "      <td>0.233878</td>\n",
       "      <td>0.018786</td>\n",
       "      <td>9.466832</td>\n",
       "      <td>9.301490</td>\n",
       "      <td>Class1</td>\n",
       "    </tr>\n",
       "    <tr>\n",
       "      <th>3</th>\n",
       "      <td>-1.640893</td>\n",
       "      <td>0.616250</td>\n",
       "      <td>0.190355</td>\n",
       "      <td>-0.105435</td>\n",
       "      <td>-0.078237</td>\n",
       "      <td>0.073932</td>\n",
       "      <td>-0.048918</td>\n",
       "      <td>-1.451956</td>\n",
       "      <td>0.246393</td>\n",
       "      <td>0.190129</td>\n",
       "      <td>...</td>\n",
       "      <td>0.498206</td>\n",
       "      <td>1.578370</td>\n",
       "      <td>3.761330</td>\n",
       "      <td>1.064999</td>\n",
       "      <td>0.497909</td>\n",
       "      <td>0.227515</td>\n",
       "      <td>0.016690</td>\n",
       "      <td>9.131656</td>\n",
       "      <td>10.144914</td>\n",
       "      <td>Class1</td>\n",
       "    </tr>\n",
       "    <tr>\n",
       "      <th>4</th>\n",
       "      <td>-2.178634</td>\n",
       "      <td>1.606521</td>\n",
       "      <td>-0.210612</td>\n",
       "      <td>-0.403590</td>\n",
       "      <td>0.160341</td>\n",
       "      <td>0.148624</td>\n",
       "      <td>-0.119212</td>\n",
       "      <td>-1.248480</td>\n",
       "      <td>0.117563</td>\n",
       "      <td>0.081393</td>\n",
       "      <td>...</td>\n",
       "      <td>0.518458</td>\n",
       "      <td>1.724664</td>\n",
       "      <td>3.702161</td>\n",
       "      <td>1.040635</td>\n",
       "      <td>0.506818</td>\n",
       "      <td>0.219666</td>\n",
       "      <td>0.029106</td>\n",
       "      <td>8.429185</td>\n",
       "      <td>10.338389</td>\n",
       "      <td>Class1</td>\n",
       "    </tr>\n",
       "  </tbody>\n",
       "</table>\n",
       "<p>5 rows × 265 columns</p>\n",
       "</div>"
      ],
      "text/plain": [
       "    ar1_ch1   ar2_ch1   ar3_ch1   ar4_ch1   ar5_ch1   ar6_ch1   ar7_ch1  \\\n",
       "0 -1.182340  0.093299  0.072635  0.039198  0.006551 -0.039820  0.031302   \n",
       "1 -1.205252  0.114655  0.093001  0.033931 -0.006233 -0.016019  0.008666   \n",
       "2 -1.283852  0.198909  0.122303  0.025071 -0.023390 -0.018506 -0.008881   \n",
       "3 -1.640893  0.616250  0.190355 -0.105435 -0.078237  0.073932 -0.048918   \n",
       "4 -2.178634  1.606521 -0.210612 -0.403590  0.160341  0.148624 -0.119212   \n",
       "\n",
       "    ar1_ch2   ar2_ch2   ar3_ch2  ...   nWL_ch4   nWL_ch5   nWL_ch6   nWL_ch7  \\\n",
       "0 -1.271728  0.139938  0.110354  ...  0.600374  1.596437  3.592119  1.074154   \n",
       "1 -1.255108  0.121292  0.075767  ...  0.565842  1.532060  3.556380  1.109444   \n",
       "2 -1.338118  0.200686  0.101438  ...  0.525669  1.585926  3.863619  1.191270   \n",
       "3 -1.451956  0.246393  0.190129  ...  0.498206  1.578370  3.761330  1.064999   \n",
       "4 -1.248480  0.117563  0.081393  ...  0.518458  1.724664  3.702161  1.040635   \n",
       "\n",
       "    nWL_ch8   nWL_ch9  nWL_ch10   nWL_ch11   nWL_ch12   LABEL  \n",
       "0  0.418833  0.246773  0.022748  10.721811   9.629430  Class1  \n",
       "1  0.464077  0.239252  0.021960  10.109793   9.308868  Class1  \n",
       "2  0.492009  0.233878  0.018786   9.466832   9.301490  Class1  \n",
       "3  0.497909  0.227515  0.016690   9.131656  10.144914  Class1  \n",
       "4  0.506818  0.219666  0.029106   8.429185  10.338389  Class1  \n",
       "\n",
       "[5 rows x 265 columns]"
      ]
     },
     "execution_count": 2,
     "metadata": {},
     "output_type": "execute_result"
    }
   ],
   "source": [
    "df1.head()"
   ]
  },
  {
   "cell_type": "code",
   "execution_count": 3,
   "id": "627349ce",
   "metadata": {},
   "outputs": [],
   "source": [
    "from sklearn.model_selection import KFold, cross_val_score\n",
    "from sklearn.ensemble import RandomForestClassifier\n",
    "\n",
    "import numpy as np\n",
    "import pandas as pd\n",
    "from sklearn.model_selection import train_test_split\n",
    "from sklearn.svm import SVC\n",
    "from sklearn.metrics import accuracy_score\n",
    "import matplotlib.pyplot as plt"
   ]
  },
  {
   "cell_type": "code",
   "execution_count": 5,
   "id": "b718e942",
   "metadata": {},
   "outputs": [],
   "source": [
    "x=df1.drop('LABEL',axis=1)\n",
    "y=df1['LABEL']\n",
    "\n",
    "x_train, x_test, y_train, y_test = train_test_split(x, y, test_size=0.2)"
   ]
  },
  {
   "cell_type": "code",
   "execution_count": 6,
   "id": "ce09c38c",
   "metadata": {},
   "outputs": [
    {
     "data": {
      "text/plain": [
       "SVC()"
      ]
     },
     "execution_count": 6,
     "metadata": {},
     "output_type": "execute_result"
    }
   ],
   "source": [
    "from sklearn.svm import SVC\n",
    "svc_model = SVC()\n",
    "svc_model.fit(x_train, y_train)"
   ]
  },
  {
   "cell_type": "code",
   "execution_count": 7,
   "id": "a14e9315",
   "metadata": {},
   "outputs": [
    {
     "data": {
      "text/plain": [
       "0.9921671018276762"
      ]
     },
     "execution_count": 7,
     "metadata": {},
     "output_type": "execute_result"
    }
   ],
   "source": [
    "svc_model.score(x_test, y_test)"
   ]
  },
  {
   "cell_type": "code",
   "execution_count": 8,
   "id": "c07dffcc",
   "metadata": {},
   "outputs": [
    {
     "data": {
      "text/plain": [
       "0.9988249118683902"
      ]
     },
     "execution_count": 8,
     "metadata": {},
     "output_type": "execute_result"
    }
   ],
   "source": [
    "svc_model.score(x_train, y_train)"
   ]
  },
  {
   "cell_type": "markdown",
   "id": "2fabf488",
   "metadata": {},
   "source": [
    "##  FOR EFD DECOMPOSED SIGNAL COMP5"
   ]
  },
  {
   "cell_type": "code",
   "execution_count": 9,
   "id": "49b08352",
   "metadata": {},
   "outputs": [
    {
     "data": {
      "text/html": [
       "<div>\n",
       "<style scoped>\n",
       "    .dataframe tbody tr th:only-of-type {\n",
       "        vertical-align: middle;\n",
       "    }\n",
       "\n",
       "    .dataframe tbody tr th {\n",
       "        vertical-align: top;\n",
       "    }\n",
       "\n",
       "    .dataframe thead th {\n",
       "        text-align: right;\n",
       "    }\n",
       "</style>\n",
       "<table border=\"1\" class=\"dataframe\">\n",
       "  <thead>\n",
       "    <tr style=\"text-align: right;\">\n",
       "      <th></th>\n",
       "      <th>ar1_ch1</th>\n",
       "      <th>ar2_ch1</th>\n",
       "      <th>ar3_ch1</th>\n",
       "      <th>ar4_ch1</th>\n",
       "      <th>ar5_ch1</th>\n",
       "      <th>ar6_ch1</th>\n",
       "      <th>ar7_ch1</th>\n",
       "      <th>ar1_ch2</th>\n",
       "      <th>ar2_ch2</th>\n",
       "      <th>ar3_ch2</th>\n",
       "      <th>...</th>\n",
       "      <th>nWL_ch4</th>\n",
       "      <th>nWL_ch5</th>\n",
       "      <th>nWL_ch6</th>\n",
       "      <th>nWL_ch7</th>\n",
       "      <th>nWL_ch8</th>\n",
       "      <th>nWL_ch9</th>\n",
       "      <th>nWL_ch10</th>\n",
       "      <th>nWL_ch11</th>\n",
       "      <th>nWL_ch12</th>\n",
       "      <th>LABEL</th>\n",
       "    </tr>\n",
       "  </thead>\n",
       "  <tbody>\n",
       "    <tr>\n",
       "      <th>0</th>\n",
       "      <td>-2.603597</td>\n",
       "      <td>2.949542</td>\n",
       "      <td>-1.560243</td>\n",
       "      <td>-0.161750</td>\n",
       "      <td>0.875726</td>\n",
       "      <td>-0.599200</td>\n",
       "      <td>0.172496</td>\n",
       "      <td>-1.658165</td>\n",
       "      <td>0.934827</td>\n",
       "      <td>0.092987</td>\n",
       "      <td>...</td>\n",
       "      <td>0.547002</td>\n",
       "      <td>1.546697</td>\n",
       "      <td>3.378091</td>\n",
       "      <td>1.070597</td>\n",
       "      <td>0.134692</td>\n",
       "      <td>0.243591</td>\n",
       "      <td>0.016866</td>\n",
       "      <td>8.763304</td>\n",
       "      <td>0.001576</td>\n",
       "      <td>Class1</td>\n",
       "    </tr>\n",
       "    <tr>\n",
       "      <th>1</th>\n",
       "      <td>-1.658538</td>\n",
       "      <td>0.792198</td>\n",
       "      <td>0.124919</td>\n",
       "      <td>-0.130683</td>\n",
       "      <td>-0.027032</td>\n",
       "      <td>-0.012190</td>\n",
       "      <td>0.055073</td>\n",
       "      <td>-2.151370</td>\n",
       "      <td>1.956656</td>\n",
       "      <td>-0.719017</td>\n",
       "      <td>...</td>\n",
       "      <td>0.541451</td>\n",
       "      <td>1.453312</td>\n",
       "      <td>3.423372</td>\n",
       "      <td>1.032860</td>\n",
       "      <td>0.137750</td>\n",
       "      <td>0.232870</td>\n",
       "      <td>0.014317</td>\n",
       "      <td>8.549510</td>\n",
       "      <td>0.130758</td>\n",
       "      <td>Class1</td>\n",
       "    </tr>\n",
       "    <tr>\n",
       "      <th>2</th>\n",
       "      <td>-2.449474</td>\n",
       "      <td>2.484071</td>\n",
       "      <td>-1.019899</td>\n",
       "      <td>-0.326514</td>\n",
       "      <td>0.630229</td>\n",
       "      <td>-0.278634</td>\n",
       "      <td>0.050038</td>\n",
       "      <td>-2.715241</td>\n",
       "      <td>3.424842</td>\n",
       "      <td>-2.263230</td>\n",
       "      <td>...</td>\n",
       "      <td>0.492484</td>\n",
       "      <td>1.507745</td>\n",
       "      <td>3.744990</td>\n",
       "      <td>1.045734</td>\n",
       "      <td>0.196225</td>\n",
       "      <td>0.231066</td>\n",
       "      <td>0.012761</td>\n",
       "      <td>7.610379</td>\n",
       "      <td>0.459449</td>\n",
       "      <td>Class1</td>\n",
       "    </tr>\n",
       "    <tr>\n",
       "      <th>3</th>\n",
       "      <td>-1.891692</td>\n",
       "      <td>1.256170</td>\n",
       "      <td>-0.053805</td>\n",
       "      <td>-0.286655</td>\n",
       "      <td>0.056681</td>\n",
       "      <td>0.105803</td>\n",
       "      <td>-0.015322</td>\n",
       "      <td>-1.659063</td>\n",
       "      <td>0.912576</td>\n",
       "      <td>0.093853</td>\n",
       "      <td>...</td>\n",
       "      <td>0.460723</td>\n",
       "      <td>1.503826</td>\n",
       "      <td>3.674076</td>\n",
       "      <td>0.983548</td>\n",
       "      <td>0.187420</td>\n",
       "      <td>0.220760</td>\n",
       "      <td>0.012474</td>\n",
       "      <td>7.577156</td>\n",
       "      <td>1.405401</td>\n",
       "      <td>Class1</td>\n",
       "    </tr>\n",
       "    <tr>\n",
       "      <th>4</th>\n",
       "      <td>-2.621084</td>\n",
       "      <td>3.043365</td>\n",
       "      <td>-1.698617</td>\n",
       "      <td>-0.039947</td>\n",
       "      <td>0.855918</td>\n",
       "      <td>-0.620798</td>\n",
       "      <td>0.192399</td>\n",
       "      <td>-1.988840</td>\n",
       "      <td>1.566322</td>\n",
       "      <td>-0.353614</td>\n",
       "      <td>...</td>\n",
       "      <td>0.473916</td>\n",
       "      <td>1.696354</td>\n",
       "      <td>3.584728</td>\n",
       "      <td>0.987879</td>\n",
       "      <td>0.181594</td>\n",
       "      <td>0.215576</td>\n",
       "      <td>0.017671</td>\n",
       "      <td>7.068788</td>\n",
       "      <td>2.608424</td>\n",
       "      <td>Class1</td>\n",
       "    </tr>\n",
       "  </tbody>\n",
       "</table>\n",
       "<p>5 rows × 265 columns</p>\n",
       "</div>"
      ],
      "text/plain": [
       "    ar1_ch1   ar2_ch1   ar3_ch1   ar4_ch1   ar5_ch1   ar6_ch1   ar7_ch1  \\\n",
       "0 -2.603597  2.949542 -1.560243 -0.161750  0.875726 -0.599200  0.172496   \n",
       "1 -1.658538  0.792198  0.124919 -0.130683 -0.027032 -0.012190  0.055073   \n",
       "2 -2.449474  2.484071 -1.019899 -0.326514  0.630229 -0.278634  0.050038   \n",
       "3 -1.891692  1.256170 -0.053805 -0.286655  0.056681  0.105803 -0.015322   \n",
       "4 -2.621084  3.043365 -1.698617 -0.039947  0.855918 -0.620798  0.192399   \n",
       "\n",
       "    ar1_ch2   ar2_ch2   ar3_ch2  ...   nWL_ch4   nWL_ch5   nWL_ch6   nWL_ch7  \\\n",
       "0 -1.658165  0.934827  0.092987  ...  0.547002  1.546697  3.378091  1.070597   \n",
       "1 -2.151370  1.956656 -0.719017  ...  0.541451  1.453312  3.423372  1.032860   \n",
       "2 -2.715241  3.424842 -2.263230  ...  0.492484  1.507745  3.744990  1.045734   \n",
       "3 -1.659063  0.912576  0.093853  ...  0.460723  1.503826  3.674076  0.983548   \n",
       "4 -1.988840  1.566322 -0.353614  ...  0.473916  1.696354  3.584728  0.987879   \n",
       "\n",
       "    nWL_ch8   nWL_ch9  nWL_ch10  nWL_ch11  nWL_ch12   LABEL  \n",
       "0  0.134692  0.243591  0.016866  8.763304  0.001576  Class1  \n",
       "1  0.137750  0.232870  0.014317  8.549510  0.130758  Class1  \n",
       "2  0.196225  0.231066  0.012761  7.610379  0.459449  Class1  \n",
       "3  0.187420  0.220760  0.012474  7.577156  1.405401  Class1  \n",
       "4  0.181594  0.215576  0.017671  7.068788  2.608424  Class1  \n",
       "\n",
       "[5 rows x 265 columns]"
      ]
     },
     "execution_count": 9,
     "metadata": {},
     "output_type": "execute_result"
    }
   ],
   "source": [
    "import pandas as pd\n",
    "df2 = pd.read_csv(r'C:\\Ninapro\\S13efd.csv')\n",
    "df2.head()"
   ]
  },
  {
   "cell_type": "code",
   "execution_count": 10,
   "id": "13c83a4f",
   "metadata": {},
   "outputs": [],
   "source": [
    "x=df2.drop('LABEL',axis=1)\n",
    "y=df2['LABEL']\n",
    "\n",
    "x_train, x_test, y_train, y_test = train_test_split(x, y, test_size=0.2)"
   ]
  },
  {
   "cell_type": "code",
   "execution_count": 11,
   "id": "1baf154c",
   "metadata": {},
   "outputs": [
    {
     "data": {
      "text/plain": [
       "SVC()"
      ]
     },
     "execution_count": 11,
     "metadata": {},
     "output_type": "execute_result"
    }
   ],
   "source": [
    "from sklearn.svm import SVC\n",
    "svc_model2 = SVC()\n",
    "svc_model2.fit(x_train, y_train)"
   ]
  },
  {
   "cell_type": "code",
   "execution_count": 12,
   "id": "fa97c944",
   "metadata": {},
   "outputs": [
    {
     "data": {
      "text/plain": [
       "0.9697127937336815"
      ]
     },
     "execution_count": 12,
     "metadata": {},
     "output_type": "execute_result"
    }
   ],
   "source": [
    "svc_model2.score(x_test, y_test)"
   ]
  },
  {
   "cell_type": "code",
   "execution_count": 13,
   "id": "596277e3",
   "metadata": {},
   "outputs": [
    {
     "data": {
      "text/plain": [
       "0.9825695260477869"
      ]
     },
     "execution_count": 13,
     "metadata": {},
     "output_type": "execute_result"
    }
   ],
   "source": [
    "svc_model2.score(x_train, y_train)"
   ]
  },
  {
   "cell_type": "code",
   "execution_count": null,
   "id": "a2204e18",
   "metadata": {},
   "outputs": [],
   "source": []
  }
 ],
 "metadata": {
  "kernelspec": {
   "display_name": "Python 3 (ipykernel)",
   "language": "python",
   "name": "python3"
  },
  "language_info": {
   "codemirror_mode": {
    "name": "ipython",
    "version": 3
   },
   "file_extension": ".py",
   "mimetype": "text/x-python",
   "name": "python",
   "nbconvert_exporter": "python",
   "pygments_lexer": "ipython3",
   "version": "3.9.12"
  }
 },
 "nbformat": 4,
 "nbformat_minor": 5
}
