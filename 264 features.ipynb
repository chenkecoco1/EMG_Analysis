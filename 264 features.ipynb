{
 "cells": [
  {
   "cell_type": "markdown",
   "id": "4dd44b74",
   "metadata": {},
   "source": [
    "## S13 FOR ORG SIGNAL"
   ]
  },
  {
   "cell_type": "code",
   "execution_count": 1,
   "id": "f65e38ac",
   "metadata": {},
   "outputs": [],
   "source": [
    "import pandas as pd\n",
    "df1 = pd.read_csv(r'C:\\Ninapro\\S13.csv')"
   ]
  },
  {
   "cell_type": "code",
   "execution_count": 2,
   "id": "54ba51d5",
   "metadata": {},
   "outputs": [
    {
     "data": {
      "text/html": [
       "<div>\n",
       "<style scoped>\n",
       "    .dataframe tbody tr th:only-of-type {\n",
       "        vertical-align: middle;\n",
       "    }\n",
       "\n",
       "    .dataframe tbody tr th {\n",
       "        vertical-align: top;\n",
       "    }\n",
       "\n",
       "    .dataframe thead th {\n",
       "        text-align: right;\n",
       "    }\n",
       "</style>\n",
       "<table border=\"1\" class=\"dataframe\">\n",
       "  <thead>\n",
       "    <tr style=\"text-align: right;\">\n",
       "      <th></th>\n",
       "      <th>ar1_ch1</th>\n",
       "      <th>ar2_ch1</th>\n",
       "      <th>ar3_ch1</th>\n",
       "      <th>ar4_ch1</th>\n",
       "      <th>ar5_ch1</th>\n",
       "      <th>ar6_ch1</th>\n",
       "      <th>ar7_ch1</th>\n",
       "      <th>ar1_ch2</th>\n",
       "      <th>ar2_ch2</th>\n",
       "      <th>ar3_ch2</th>\n",
       "      <th>...</th>\n",
       "      <th>nWL_ch4</th>\n",
       "      <th>nWL_ch5</th>\n",
       "      <th>nWL_ch6</th>\n",
       "      <th>nWL_ch7</th>\n",
       "      <th>nWL_ch8</th>\n",
       "      <th>nWL_ch9</th>\n",
       "      <th>nWL_ch10</th>\n",
       "      <th>nWL_ch11</th>\n",
       "      <th>nWL_ch12</th>\n",
       "      <th>LABEL</th>\n",
       "    </tr>\n",
       "  </thead>\n",
       "  <tbody>\n",
       "    <tr>\n",
       "      <th>0</th>\n",
       "      <td>-1.182340</td>\n",
       "      <td>0.093299</td>\n",
       "      <td>0.072635</td>\n",
       "      <td>0.039198</td>\n",
       "      <td>0.006551</td>\n",
       "      <td>-0.039820</td>\n",
       "      <td>0.031302</td>\n",
       "      <td>-1.271728</td>\n",
       "      <td>0.139938</td>\n",
       "      <td>0.110354</td>\n",
       "      <td>...</td>\n",
       "      <td>0.600374</td>\n",
       "      <td>1.596437</td>\n",
       "      <td>3.592119</td>\n",
       "      <td>1.074154</td>\n",
       "      <td>0.418833</td>\n",
       "      <td>0.246773</td>\n",
       "      <td>0.022748</td>\n",
       "      <td>10.721811</td>\n",
       "      <td>9.629430</td>\n",
       "      <td>Class1</td>\n",
       "    </tr>\n",
       "    <tr>\n",
       "      <th>1</th>\n",
       "      <td>-1.205252</td>\n",
       "      <td>0.114655</td>\n",
       "      <td>0.093001</td>\n",
       "      <td>0.033931</td>\n",
       "      <td>-0.006233</td>\n",
       "      <td>-0.016019</td>\n",
       "      <td>0.008666</td>\n",
       "      <td>-1.255108</td>\n",
       "      <td>0.121292</td>\n",
       "      <td>0.075767</td>\n",
       "      <td>...</td>\n",
       "      <td>0.565842</td>\n",
       "      <td>1.532060</td>\n",
       "      <td>3.556380</td>\n",
       "      <td>1.109444</td>\n",
       "      <td>0.464077</td>\n",
       "      <td>0.239252</td>\n",
       "      <td>0.021960</td>\n",
       "      <td>10.109793</td>\n",
       "      <td>9.308868</td>\n",
       "      <td>Class1</td>\n",
       "    </tr>\n",
       "    <tr>\n",
       "      <th>2</th>\n",
       "      <td>-1.283852</td>\n",
       "      <td>0.198909</td>\n",
       "      <td>0.122303</td>\n",
       "      <td>0.025071</td>\n",
       "      <td>-0.023390</td>\n",
       "      <td>-0.018506</td>\n",
       "      <td>-0.008881</td>\n",
       "      <td>-1.338118</td>\n",
       "      <td>0.200686</td>\n",
       "      <td>0.101438</td>\n",
       "      <td>...</td>\n",
       "      <td>0.525669</td>\n",
       "      <td>1.585926</td>\n",
       "      <td>3.863619</td>\n",
       "      <td>1.191270</td>\n",
       "      <td>0.492009</td>\n",
       "      <td>0.233878</td>\n",
       "      <td>0.018786</td>\n",
       "      <td>9.466832</td>\n",
       "      <td>9.301490</td>\n",
       "      <td>Class1</td>\n",
       "    </tr>\n",
       "    <tr>\n",
       "      <th>3</th>\n",
       "      <td>-1.640893</td>\n",
       "      <td>0.616250</td>\n",
       "      <td>0.190355</td>\n",
       "      <td>-0.105435</td>\n",
       "      <td>-0.078237</td>\n",
       "      <td>0.073932</td>\n",
       "      <td>-0.048918</td>\n",
       "      <td>-1.451956</td>\n",
       "      <td>0.246393</td>\n",
       "      <td>0.190129</td>\n",
       "      <td>...</td>\n",
       "      <td>0.498206</td>\n",
       "      <td>1.578370</td>\n",
       "      <td>3.761330</td>\n",
       "      <td>1.064999</td>\n",
       "      <td>0.497909</td>\n",
       "      <td>0.227515</td>\n",
       "      <td>0.016690</td>\n",
       "      <td>9.131656</td>\n",
       "      <td>10.144914</td>\n",
       "      <td>Class1</td>\n",
       "    </tr>\n",
       "    <tr>\n",
       "      <th>4</th>\n",
       "      <td>-2.178634</td>\n",
       "      <td>1.606521</td>\n",
       "      <td>-0.210612</td>\n",
       "      <td>-0.403590</td>\n",
       "      <td>0.160341</td>\n",
       "      <td>0.148624</td>\n",
       "      <td>-0.119212</td>\n",
       "      <td>-1.248480</td>\n",
       "      <td>0.117563</td>\n",
       "      <td>0.081393</td>\n",
       "      <td>...</td>\n",
       "      <td>0.518458</td>\n",
       "      <td>1.724664</td>\n",
       "      <td>3.702161</td>\n",
       "      <td>1.040635</td>\n",
       "      <td>0.506818</td>\n",
       "      <td>0.219666</td>\n",
       "      <td>0.029106</td>\n",
       "      <td>8.429185</td>\n",
       "      <td>10.338389</td>\n",
       "      <td>Class1</td>\n",
       "    </tr>\n",
       "  </tbody>\n",
       "</table>\n",
       "<p>5 rows × 265 columns</p>\n",
       "</div>"
      ],
      "text/plain": [
       "    ar1_ch1   ar2_ch1   ar3_ch1   ar4_ch1   ar5_ch1   ar6_ch1   ar7_ch1  \\\n",
       "0 -1.182340  0.093299  0.072635  0.039198  0.006551 -0.039820  0.031302   \n",
       "1 -1.205252  0.114655  0.093001  0.033931 -0.006233 -0.016019  0.008666   \n",
       "2 -1.283852  0.198909  0.122303  0.025071 -0.023390 -0.018506 -0.008881   \n",
       "3 -1.640893  0.616250  0.190355 -0.105435 -0.078237  0.073932 -0.048918   \n",
       "4 -2.178634  1.606521 -0.210612 -0.403590  0.160341  0.148624 -0.119212   \n",
       "\n",
       "    ar1_ch2   ar2_ch2   ar3_ch2  ...   nWL_ch4   nWL_ch5   nWL_ch6   nWL_ch7  \\\n",
       "0 -1.271728  0.139938  0.110354  ...  0.600374  1.596437  3.592119  1.074154   \n",
       "1 -1.255108  0.121292  0.075767  ...  0.565842  1.532060  3.556380  1.109444   \n",
       "2 -1.338118  0.200686  0.101438  ...  0.525669  1.585926  3.863619  1.191270   \n",
       "3 -1.451956  0.246393  0.190129  ...  0.498206  1.578370  3.761330  1.064999   \n",
       "4 -1.248480  0.117563  0.081393  ...  0.518458  1.724664  3.702161  1.040635   \n",
       "\n",
       "    nWL_ch8   nWL_ch9  nWL_ch10   nWL_ch11   nWL_ch12   LABEL  \n",
       "0  0.418833  0.246773  0.022748  10.721811   9.629430  Class1  \n",
       "1  0.464077  0.239252  0.021960  10.109793   9.308868  Class1  \n",
       "2  0.492009  0.233878  0.018786   9.466832   9.301490  Class1  \n",
       "3  0.497909  0.227515  0.016690   9.131656  10.144914  Class1  \n",
       "4  0.506818  0.219666  0.029106   8.429185  10.338389  Class1  \n",
       "\n",
       "[5 rows x 265 columns]"
      ]
     },
     "execution_count": 2,
     "metadata": {},
     "output_type": "execute_result"
    }
   ],
   "source": [
    "df1.head()"
   ]
  },
  {
   "cell_type": "code",
   "execution_count": 3,
   "id": "627349ce",
   "metadata": {},
   "outputs": [],
   "source": [
    "from sklearn.model_selection import KFold, cross_val_score\n",
    "from sklearn.ensemble import RandomForestClassifier\n",
    "\n",
    "import numpy as np\n",
    "import pandas as pd\n",
    "from sklearn.model_selection import train_test_split\n",
    "from sklearn.svm import SVC\n",
    "from sklearn.metrics import accuracy_score\n",
    "import matplotlib.pyplot as plt"
   ]
  },
  {
   "cell_type": "code",
   "execution_count": 4,
   "id": "b718e942",
   "metadata": {},
   "outputs": [],
   "source": [
    "x=df1.drop('LABEL',axis=1)\n",
    "y=df1['LABEL']\n",
    "\n",
    "x_train, x_test, y_train, y_test = train_test_split(x, y, test_size=0.2)"
   ]
  },
  {
   "cell_type": "code",
   "execution_count": 5,
   "id": "ce09c38c",
   "metadata": {},
   "outputs": [
    {
     "data": {
      "text/plain": [
       "SVC()"
      ]
     },
     "execution_count": 5,
     "metadata": {},
     "output_type": "execute_result"
    }
   ],
   "source": [
    "from sklearn.svm import SVC\n",
    "svc_model = SVC()\n",
    "svc_model.fit(x_train, y_train)"
   ]
  },
  {
   "cell_type": "code",
   "execution_count": 6,
   "id": "a14e9315",
   "metadata": {},
   "outputs": [
    {
     "data": {
      "text/plain": [
       "0.9929503916449086"
      ]
     },
     "execution_count": 6,
     "metadata": {},
     "output_type": "execute_result"
    }
   ],
   "source": [
    "svc_model.score(x_test, y_test)"
   ]
  },
  {
   "cell_type": "code",
   "execution_count": 7,
   "id": "c07dffcc",
   "metadata": {},
   "outputs": [
    {
     "data": {
      "text/plain": [
       "0.9986943465204334"
      ]
     },
     "execution_count": 7,
     "metadata": {},
     "output_type": "execute_result"
    }
   ],
   "source": [
    "svc_model.score(x_train, y_train)"
   ]
  },
  {
   "cell_type": "markdown",
   "id": "2fabf488",
   "metadata": {},
   "source": [
    "##  S13 FOR EFD DECOMPOSED SIGNAL COMP5"
   ]
  },
  {
   "cell_type": "code",
   "execution_count": 8,
   "id": "49b08352",
   "metadata": {},
   "outputs": [
    {
     "data": {
      "text/html": [
       "<div>\n",
       "<style scoped>\n",
       "    .dataframe tbody tr th:only-of-type {\n",
       "        vertical-align: middle;\n",
       "    }\n",
       "\n",
       "    .dataframe tbody tr th {\n",
       "        vertical-align: top;\n",
       "    }\n",
       "\n",
       "    .dataframe thead th {\n",
       "        text-align: right;\n",
       "    }\n",
       "</style>\n",
       "<table border=\"1\" class=\"dataframe\">\n",
       "  <thead>\n",
       "    <tr style=\"text-align: right;\">\n",
       "      <th></th>\n",
       "      <th>ar1_ch1</th>\n",
       "      <th>ar2_ch1</th>\n",
       "      <th>ar3_ch1</th>\n",
       "      <th>ar4_ch1</th>\n",
       "      <th>ar5_ch1</th>\n",
       "      <th>ar6_ch1</th>\n",
       "      <th>ar7_ch1</th>\n",
       "      <th>ar1_ch2</th>\n",
       "      <th>ar2_ch2</th>\n",
       "      <th>ar3_ch2</th>\n",
       "      <th>...</th>\n",
       "      <th>nWL_ch4</th>\n",
       "      <th>nWL_ch5</th>\n",
       "      <th>nWL_ch6</th>\n",
       "      <th>nWL_ch7</th>\n",
       "      <th>nWL_ch8</th>\n",
       "      <th>nWL_ch9</th>\n",
       "      <th>nWL_ch10</th>\n",
       "      <th>nWL_ch11</th>\n",
       "      <th>nWL_ch12</th>\n",
       "      <th>LABEL</th>\n",
       "    </tr>\n",
       "  </thead>\n",
       "  <tbody>\n",
       "    <tr>\n",
       "      <th>0</th>\n",
       "      <td>-2.603597</td>\n",
       "      <td>2.949542</td>\n",
       "      <td>-1.560243</td>\n",
       "      <td>-0.161750</td>\n",
       "      <td>0.875726</td>\n",
       "      <td>-0.599200</td>\n",
       "      <td>0.172496</td>\n",
       "      <td>-1.658165</td>\n",
       "      <td>0.934827</td>\n",
       "      <td>0.092987</td>\n",
       "      <td>...</td>\n",
       "      <td>0.547002</td>\n",
       "      <td>1.546697</td>\n",
       "      <td>3.378091</td>\n",
       "      <td>1.070597</td>\n",
       "      <td>0.134692</td>\n",
       "      <td>0.243591</td>\n",
       "      <td>0.016866</td>\n",
       "      <td>8.763304</td>\n",
       "      <td>0.001576</td>\n",
       "      <td>Class1</td>\n",
       "    </tr>\n",
       "    <tr>\n",
       "      <th>1</th>\n",
       "      <td>-1.658538</td>\n",
       "      <td>0.792198</td>\n",
       "      <td>0.124919</td>\n",
       "      <td>-0.130683</td>\n",
       "      <td>-0.027032</td>\n",
       "      <td>-0.012190</td>\n",
       "      <td>0.055073</td>\n",
       "      <td>-2.151370</td>\n",
       "      <td>1.956656</td>\n",
       "      <td>-0.719017</td>\n",
       "      <td>...</td>\n",
       "      <td>0.541451</td>\n",
       "      <td>1.453312</td>\n",
       "      <td>3.423372</td>\n",
       "      <td>1.032860</td>\n",
       "      <td>0.137750</td>\n",
       "      <td>0.232870</td>\n",
       "      <td>0.014317</td>\n",
       "      <td>8.549510</td>\n",
       "      <td>0.130758</td>\n",
       "      <td>Class1</td>\n",
       "    </tr>\n",
       "    <tr>\n",
       "      <th>2</th>\n",
       "      <td>-2.449474</td>\n",
       "      <td>2.484071</td>\n",
       "      <td>-1.019899</td>\n",
       "      <td>-0.326514</td>\n",
       "      <td>0.630229</td>\n",
       "      <td>-0.278634</td>\n",
       "      <td>0.050038</td>\n",
       "      <td>-2.715241</td>\n",
       "      <td>3.424842</td>\n",
       "      <td>-2.263230</td>\n",
       "      <td>...</td>\n",
       "      <td>0.492484</td>\n",
       "      <td>1.507745</td>\n",
       "      <td>3.744990</td>\n",
       "      <td>1.045734</td>\n",
       "      <td>0.196225</td>\n",
       "      <td>0.231066</td>\n",
       "      <td>0.012761</td>\n",
       "      <td>7.610379</td>\n",
       "      <td>0.459449</td>\n",
       "      <td>Class1</td>\n",
       "    </tr>\n",
       "    <tr>\n",
       "      <th>3</th>\n",
       "      <td>-1.891692</td>\n",
       "      <td>1.256170</td>\n",
       "      <td>-0.053805</td>\n",
       "      <td>-0.286655</td>\n",
       "      <td>0.056681</td>\n",
       "      <td>0.105803</td>\n",
       "      <td>-0.015322</td>\n",
       "      <td>-1.659063</td>\n",
       "      <td>0.912576</td>\n",
       "      <td>0.093853</td>\n",
       "      <td>...</td>\n",
       "      <td>0.460723</td>\n",
       "      <td>1.503826</td>\n",
       "      <td>3.674076</td>\n",
       "      <td>0.983548</td>\n",
       "      <td>0.187420</td>\n",
       "      <td>0.220760</td>\n",
       "      <td>0.012474</td>\n",
       "      <td>7.577156</td>\n",
       "      <td>1.405401</td>\n",
       "      <td>Class1</td>\n",
       "    </tr>\n",
       "    <tr>\n",
       "      <th>4</th>\n",
       "      <td>-2.621084</td>\n",
       "      <td>3.043365</td>\n",
       "      <td>-1.698617</td>\n",
       "      <td>-0.039947</td>\n",
       "      <td>0.855918</td>\n",
       "      <td>-0.620798</td>\n",
       "      <td>0.192399</td>\n",
       "      <td>-1.988840</td>\n",
       "      <td>1.566322</td>\n",
       "      <td>-0.353614</td>\n",
       "      <td>...</td>\n",
       "      <td>0.473916</td>\n",
       "      <td>1.696354</td>\n",
       "      <td>3.584728</td>\n",
       "      <td>0.987879</td>\n",
       "      <td>0.181594</td>\n",
       "      <td>0.215576</td>\n",
       "      <td>0.017671</td>\n",
       "      <td>7.068788</td>\n",
       "      <td>2.608424</td>\n",
       "      <td>Class1</td>\n",
       "    </tr>\n",
       "  </tbody>\n",
       "</table>\n",
       "<p>5 rows × 265 columns</p>\n",
       "</div>"
      ],
      "text/plain": [
       "    ar1_ch1   ar2_ch1   ar3_ch1   ar4_ch1   ar5_ch1   ar6_ch1   ar7_ch1  \\\n",
       "0 -2.603597  2.949542 -1.560243 -0.161750  0.875726 -0.599200  0.172496   \n",
       "1 -1.658538  0.792198  0.124919 -0.130683 -0.027032 -0.012190  0.055073   \n",
       "2 -2.449474  2.484071 -1.019899 -0.326514  0.630229 -0.278634  0.050038   \n",
       "3 -1.891692  1.256170 -0.053805 -0.286655  0.056681  0.105803 -0.015322   \n",
       "4 -2.621084  3.043365 -1.698617 -0.039947  0.855918 -0.620798  0.192399   \n",
       "\n",
       "    ar1_ch2   ar2_ch2   ar3_ch2  ...   nWL_ch4   nWL_ch5   nWL_ch6   nWL_ch7  \\\n",
       "0 -1.658165  0.934827  0.092987  ...  0.547002  1.546697  3.378091  1.070597   \n",
       "1 -2.151370  1.956656 -0.719017  ...  0.541451  1.453312  3.423372  1.032860   \n",
       "2 -2.715241  3.424842 -2.263230  ...  0.492484  1.507745  3.744990  1.045734   \n",
       "3 -1.659063  0.912576  0.093853  ...  0.460723  1.503826  3.674076  0.983548   \n",
       "4 -1.988840  1.566322 -0.353614  ...  0.473916  1.696354  3.584728  0.987879   \n",
       "\n",
       "    nWL_ch8   nWL_ch9  nWL_ch10  nWL_ch11  nWL_ch12   LABEL  \n",
       "0  0.134692  0.243591  0.016866  8.763304  0.001576  Class1  \n",
       "1  0.137750  0.232870  0.014317  8.549510  0.130758  Class1  \n",
       "2  0.196225  0.231066  0.012761  7.610379  0.459449  Class1  \n",
       "3  0.187420  0.220760  0.012474  7.577156  1.405401  Class1  \n",
       "4  0.181594  0.215576  0.017671  7.068788  2.608424  Class1  \n",
       "\n",
       "[5 rows x 265 columns]"
      ]
     },
     "execution_count": 8,
     "metadata": {},
     "output_type": "execute_result"
    }
   ],
   "source": [
    "import pandas as pd\n",
    "df2 = pd.read_csv(r'C:\\Ninapro\\S13efd.csv')\n",
    "df2.head()"
   ]
  },
  {
   "cell_type": "code",
   "execution_count": 9,
   "id": "13c83a4f",
   "metadata": {},
   "outputs": [],
   "source": [
    "x=df2.drop('LABEL',axis=1)\n",
    "y=df2['LABEL']\n",
    "\n",
    "x_train, x_test, y_train, y_test = train_test_split(x, y, test_size=0.2)"
   ]
  },
  {
   "cell_type": "code",
   "execution_count": 10,
   "id": "1baf154c",
   "metadata": {},
   "outputs": [
    {
     "data": {
      "text/plain": [
       "SVC()"
      ]
     },
     "execution_count": 10,
     "metadata": {},
     "output_type": "execute_result"
    }
   ],
   "source": [
    "from sklearn.svm import SVC\n",
    "svc_model2 = SVC()\n",
    "svc_model2.fit(x_train, y_train)"
   ]
  },
  {
   "cell_type": "code",
   "execution_count": 11,
   "id": "fa97c944",
   "metadata": {},
   "outputs": [
    {
     "data": {
      "text/plain": [
       "0.9767624020887729"
      ]
     },
     "execution_count": 11,
     "metadata": {},
     "output_type": "execute_result"
    }
   ],
   "source": [
    "svc_model2.score(x_test, y_test)"
   ]
  },
  {
   "cell_type": "code",
   "execution_count": 12,
   "id": "596277e3",
   "metadata": {},
   "outputs": [
    {
     "data": {
      "text/plain": [
       "0.9814597205901554"
      ]
     },
     "execution_count": 12,
     "metadata": {},
     "output_type": "execute_result"
    }
   ],
   "source": [
    "svc_model2.score(x_train, y_train)"
   ]
  },
  {
   "cell_type": "markdown",
   "id": "e968cb61",
   "metadata": {},
   "source": [
    "## S9 FOR ORG SIGNAL"
   ]
  },
  {
   "cell_type": "code",
   "execution_count": 13,
   "id": "592e3e2d",
   "metadata": {},
   "outputs": [
    {
     "data": {
      "text/html": [
       "<div>\n",
       "<style scoped>\n",
       "    .dataframe tbody tr th:only-of-type {\n",
       "        vertical-align: middle;\n",
       "    }\n",
       "\n",
       "    .dataframe tbody tr th {\n",
       "        vertical-align: top;\n",
       "    }\n",
       "\n",
       "    .dataframe thead th {\n",
       "        text-align: right;\n",
       "    }\n",
       "</style>\n",
       "<table border=\"1\" class=\"dataframe\">\n",
       "  <thead>\n",
       "    <tr style=\"text-align: right;\">\n",
       "      <th></th>\n",
       "      <th>ar1_ch1</th>\n",
       "      <th>ar2_ch1</th>\n",
       "      <th>ar3_ch1</th>\n",
       "      <th>ar4_ch1</th>\n",
       "      <th>ar5_ch1</th>\n",
       "      <th>ar6_ch1</th>\n",
       "      <th>ar7_ch1</th>\n",
       "      <th>ar1_ch2</th>\n",
       "      <th>ar2_ch2</th>\n",
       "      <th>ar3_ch2</th>\n",
       "      <th>...</th>\n",
       "      <th>nWL_ch4</th>\n",
       "      <th>nWL_ch5</th>\n",
       "      <th>nWL_ch6</th>\n",
       "      <th>nWL_ch7</th>\n",
       "      <th>nWL_ch8</th>\n",
       "      <th>nWL_ch9</th>\n",
       "      <th>nWL_ch10</th>\n",
       "      <th>nWL_ch11</th>\n",
       "      <th>nWL_ch12</th>\n",
       "      <th>C</th>\n",
       "    </tr>\n",
       "  </thead>\n",
       "  <tbody>\n",
       "    <tr>\n",
       "      <th>0</th>\n",
       "      <td>-2.521223</td>\n",
       "      <td>2.373229</td>\n",
       "      <td>-0.713543</td>\n",
       "      <td>-0.497003</td>\n",
       "      <td>0.438578</td>\n",
       "      <td>-0.035044</td>\n",
       "      <td>-0.034854</td>\n",
       "      <td>-1.691948</td>\n",
       "      <td>0.591917</td>\n",
       "      <td>0.220985</td>\n",
       "      <td>...</td>\n",
       "      <td>6.941143</td>\n",
       "      <td>3.819503</td>\n",
       "      <td>3.106167</td>\n",
       "      <td>1.495742</td>\n",
       "      <td>1.696277</td>\n",
       "      <td>1.300851</td>\n",
       "      <td>1.627605</td>\n",
       "      <td>4.593779</td>\n",
       "      <td>9.182778</td>\n",
       "      <td>Class1</td>\n",
       "    </tr>\n",
       "    <tr>\n",
       "      <th>1</th>\n",
       "      <td>-1.433505</td>\n",
       "      <td>0.358481</td>\n",
       "      <td>0.174970</td>\n",
       "      <td>-0.019385</td>\n",
       "      <td>-0.075336</td>\n",
       "      <td>-0.033368</td>\n",
       "      <td>0.059661</td>\n",
       "      <td>-1.317897</td>\n",
       "      <td>0.187413</td>\n",
       "      <td>0.125433</td>\n",
       "      <td>...</td>\n",
       "      <td>6.428668</td>\n",
       "      <td>4.081753</td>\n",
       "      <td>3.050340</td>\n",
       "      <td>1.559065</td>\n",
       "      <td>1.728710</td>\n",
       "      <td>1.229793</td>\n",
       "      <td>1.651775</td>\n",
       "      <td>4.181011</td>\n",
       "      <td>9.184570</td>\n",
       "      <td>Class1</td>\n",
       "    </tr>\n",
       "    <tr>\n",
       "      <th>2</th>\n",
       "      <td>-2.971931</td>\n",
       "      <td>3.785352</td>\n",
       "      <td>-2.411412</td>\n",
       "      <td>0.168262</td>\n",
       "      <td>0.997326</td>\n",
       "      <td>-0.808211</td>\n",
       "      <td>0.247608</td>\n",
       "      <td>-1.244226</td>\n",
       "      <td>0.201447</td>\n",
       "      <td>0.125476</td>\n",
       "      <td>...</td>\n",
       "      <td>6.850548</td>\n",
       "      <td>3.832822</td>\n",
       "      <td>3.303642</td>\n",
       "      <td>1.480652</td>\n",
       "      <td>1.565089</td>\n",
       "      <td>1.378472</td>\n",
       "      <td>1.785715</td>\n",
       "      <td>3.078879</td>\n",
       "      <td>8.504616</td>\n",
       "      <td>Class1</td>\n",
       "    </tr>\n",
       "    <tr>\n",
       "      <th>3</th>\n",
       "      <td>-1.418472</td>\n",
       "      <td>0.346564</td>\n",
       "      <td>0.163890</td>\n",
       "      <td>-0.036481</td>\n",
       "      <td>-0.083629</td>\n",
       "      <td>-0.025504</td>\n",
       "      <td>0.085970</td>\n",
       "      <td>-1.867852</td>\n",
       "      <td>0.928824</td>\n",
       "      <td>0.168354</td>\n",
       "      <td>...</td>\n",
       "      <td>6.694025</td>\n",
       "      <td>4.312051</td>\n",
       "      <td>3.218859</td>\n",
       "      <td>1.491782</td>\n",
       "      <td>1.701551</td>\n",
       "      <td>1.231602</td>\n",
       "      <td>1.681725</td>\n",
       "      <td>3.456387</td>\n",
       "      <td>9.086210</td>\n",
       "      <td>Class1</td>\n",
       "    </tr>\n",
       "    <tr>\n",
       "      <th>4</th>\n",
       "      <td>-2.007563</td>\n",
       "      <td>1.247713</td>\n",
       "      <td>0.019923</td>\n",
       "      <td>-0.369273</td>\n",
       "      <td>-0.011450</td>\n",
       "      <td>0.171503</td>\n",
       "      <td>-0.042217</td>\n",
       "      <td>-1.508747</td>\n",
       "      <td>0.420123</td>\n",
       "      <td>0.201984</td>\n",
       "      <td>...</td>\n",
       "      <td>6.907828</td>\n",
       "      <td>4.323457</td>\n",
       "      <td>3.133927</td>\n",
       "      <td>1.546925</td>\n",
       "      <td>1.560492</td>\n",
       "      <td>1.293092</td>\n",
       "      <td>1.598822</td>\n",
       "      <td>3.842746</td>\n",
       "      <td>9.037972</td>\n",
       "      <td>Class1</td>\n",
       "    </tr>\n",
       "  </tbody>\n",
       "</table>\n",
       "<p>5 rows × 265 columns</p>\n",
       "</div>"
      ],
      "text/plain": [
       "    ar1_ch1   ar2_ch1   ar3_ch1   ar4_ch1   ar5_ch1   ar6_ch1   ar7_ch1  \\\n",
       "0 -2.521223  2.373229 -0.713543 -0.497003  0.438578 -0.035044 -0.034854   \n",
       "1 -1.433505  0.358481  0.174970 -0.019385 -0.075336 -0.033368  0.059661   \n",
       "2 -2.971931  3.785352 -2.411412  0.168262  0.997326 -0.808211  0.247608   \n",
       "3 -1.418472  0.346564  0.163890 -0.036481 -0.083629 -0.025504  0.085970   \n",
       "4 -2.007563  1.247713  0.019923 -0.369273 -0.011450  0.171503 -0.042217   \n",
       "\n",
       "    ar1_ch2   ar2_ch2   ar3_ch2  ...   nWL_ch4   nWL_ch5   nWL_ch6   nWL_ch7  \\\n",
       "0 -1.691948  0.591917  0.220985  ...  6.941143  3.819503  3.106167  1.495742   \n",
       "1 -1.317897  0.187413  0.125433  ...  6.428668  4.081753  3.050340  1.559065   \n",
       "2 -1.244226  0.201447  0.125476  ...  6.850548  3.832822  3.303642  1.480652   \n",
       "3 -1.867852  0.928824  0.168354  ...  6.694025  4.312051  3.218859  1.491782   \n",
       "4 -1.508747  0.420123  0.201984  ...  6.907828  4.323457  3.133927  1.546925   \n",
       "\n",
       "    nWL_ch8   nWL_ch9  nWL_ch10  nWL_ch11  nWL_ch12       C  \n",
       "0  1.696277  1.300851  1.627605  4.593779  9.182778  Class1  \n",
       "1  1.728710  1.229793  1.651775  4.181011  9.184570  Class1  \n",
       "2  1.565089  1.378472  1.785715  3.078879  8.504616  Class1  \n",
       "3  1.701551  1.231602  1.681725  3.456387  9.086210  Class1  \n",
       "4  1.560492  1.293092  1.598822  3.842746  9.037972  Class1  \n",
       "\n",
       "[5 rows x 265 columns]"
      ]
     },
     "execution_count": 13,
     "metadata": {},
     "output_type": "execute_result"
    }
   ],
   "source": [
    "import pandas as pd\n",
    "df3 = pd.read_csv(r'C:\\Ninapro\\S9.csv')\n",
    "df3.head()"
   ]
  },
  {
   "cell_type": "code",
   "execution_count": 14,
   "id": "a3db8e47",
   "metadata": {},
   "outputs": [],
   "source": [
    "x=df3.drop('C',axis=1)\n",
    "y=df3['C']\n",
    "\n",
    "x_train, x_test, y_train, y_test = train_test_split(x, y, test_size=0.2)"
   ]
  },
  {
   "cell_type": "code",
   "execution_count": 15,
   "id": "6e905447",
   "metadata": {},
   "outputs": [
    {
     "data": {
      "text/plain": [
       "SVC()"
      ]
     },
     "execution_count": 15,
     "metadata": {},
     "output_type": "execute_result"
    }
   ],
   "source": [
    "from sklearn.svm import SVC\n",
    "svc_model3 = SVC()\n",
    "svc_model3.fit(x_train, y_train)"
   ]
  },
  {
   "cell_type": "code",
   "execution_count": 16,
   "id": "5533e870",
   "metadata": {},
   "outputs": [
    {
     "data": {
      "text/plain": [
       "0.9929356357927787"
      ]
     },
     "execution_count": 16,
     "metadata": {},
     "output_type": "execute_result"
    }
   ],
   "source": [
    "svc_model3.score(x_test, y_test)"
   ]
  },
  {
   "cell_type": "code",
   "execution_count": 17,
   "id": "d812534b",
   "metadata": {},
   "outputs": [
    {
     "data": {
      "text/plain": [
       "0.9985607745649614"
      ]
     },
     "execution_count": 17,
     "metadata": {},
     "output_type": "execute_result"
    }
   ],
   "source": [
    "svc_model3.score(x_train, y_train)"
   ]
  },
  {
   "cell_type": "markdown",
   "id": "ab29e2ed",
   "metadata": {},
   "source": [
    "## S9 FOR EFD DECOMPOSED SIGNAL COMP"
   ]
  },
  {
   "cell_type": "code",
   "execution_count": 23,
   "id": "d4f080cb",
   "metadata": {},
   "outputs": [
    {
     "data": {
      "text/html": [
       "<div>\n",
       "<style scoped>\n",
       "    .dataframe tbody tr th:only-of-type {\n",
       "        vertical-align: middle;\n",
       "    }\n",
       "\n",
       "    .dataframe tbody tr th {\n",
       "        vertical-align: top;\n",
       "    }\n",
       "\n",
       "    .dataframe thead th {\n",
       "        text-align: right;\n",
       "    }\n",
       "</style>\n",
       "<table border=\"1\" class=\"dataframe\">\n",
       "  <thead>\n",
       "    <tr style=\"text-align: right;\">\n",
       "      <th></th>\n",
       "      <th>ar1_ch1</th>\n",
       "      <th>ar2_ch1</th>\n",
       "      <th>ar3_ch1</th>\n",
       "      <th>ar4_ch1</th>\n",
       "      <th>ar5_ch1</th>\n",
       "      <th>ar6_ch1</th>\n",
       "      <th>ar7_ch1</th>\n",
       "      <th>ar1_ch2</th>\n",
       "      <th>ar2_ch2</th>\n",
       "      <th>ar3_ch2</th>\n",
       "      <th>...</th>\n",
       "      <th>nWL_ch4</th>\n",
       "      <th>nWL_ch5</th>\n",
       "      <th>nWL_ch6</th>\n",
       "      <th>nWL_ch7</th>\n",
       "      <th>nWL_ch8</th>\n",
       "      <th>nWL_ch9</th>\n",
       "      <th>nWL_ch10</th>\n",
       "      <th>nWL_ch11</th>\n",
       "      <th>nWL_ch12</th>\n",
       "      <th>C</th>\n",
       "    </tr>\n",
       "  </thead>\n",
       "  <tbody>\n",
       "    <tr>\n",
       "      <th>0</th>\n",
       "      <td>-2.447620</td>\n",
       "      <td>3.258939</td>\n",
       "      <td>-2.102264</td>\n",
       "      <td>0.327974</td>\n",
       "      <td>0.907990</td>\n",
       "      <td>-0.777002</td>\n",
       "      <td>0.340796</td>\n",
       "      <td>-1.519866</td>\n",
       "      <td>0.526912</td>\n",
       "      <td>0.215783</td>\n",
       "      <td>...</td>\n",
       "      <td>6.474938</td>\n",
       "      <td>3.863636</td>\n",
       "      <td>2.985799</td>\n",
       "      <td>1.486163</td>\n",
       "      <td>1.707903</td>\n",
       "      <td>0.975879</td>\n",
       "      <td>1.508540</td>\n",
       "      <td>4.575181</td>\n",
       "      <td>9.221928</td>\n",
       "      <td>Class1</td>\n",
       "    </tr>\n",
       "    <tr>\n",
       "      <th>1</th>\n",
       "      <td>-2.218797</td>\n",
       "      <td>2.684178</td>\n",
       "      <td>-1.403154</td>\n",
       "      <td>-0.051209</td>\n",
       "      <td>0.897149</td>\n",
       "      <td>-0.622900</td>\n",
       "      <td>0.271475</td>\n",
       "      <td>-1.548806</td>\n",
       "      <td>0.629561</td>\n",
       "      <td>0.234974</td>\n",
       "      <td>...</td>\n",
       "      <td>6.188759</td>\n",
       "      <td>4.058245</td>\n",
       "      <td>2.956128</td>\n",
       "      <td>1.509419</td>\n",
       "      <td>1.732143</td>\n",
       "      <td>1.064290</td>\n",
       "      <td>1.516842</td>\n",
       "      <td>4.173755</td>\n",
       "      <td>9.083804</td>\n",
       "      <td>Class1</td>\n",
       "    </tr>\n",
       "    <tr>\n",
       "      <th>2</th>\n",
       "      <td>-2.941553</td>\n",
       "      <td>4.907549</td>\n",
       "      <td>-5.182885</td>\n",
       "      <td>3.899922</td>\n",
       "      <td>-1.918198</td>\n",
       "      <td>0.617041</td>\n",
       "      <td>-0.043702</td>\n",
       "      <td>-1.338929</td>\n",
       "      <td>0.460083</td>\n",
       "      <td>0.219612</td>\n",
       "      <td>...</td>\n",
       "      <td>6.599680</td>\n",
       "      <td>3.932028</td>\n",
       "      <td>3.224078</td>\n",
       "      <td>1.477574</td>\n",
       "      <td>1.572113</td>\n",
       "      <td>1.307790</td>\n",
       "      <td>1.610933</td>\n",
       "      <td>3.046992</td>\n",
       "      <td>8.169688</td>\n",
       "      <td>Class1</td>\n",
       "    </tr>\n",
       "    <tr>\n",
       "      <th>3</th>\n",
       "      <td>-2.243127</td>\n",
       "      <td>2.810532</td>\n",
       "      <td>-1.676441</td>\n",
       "      <td>0.259634</td>\n",
       "      <td>0.696978</td>\n",
       "      <td>-0.557656</td>\n",
       "      <td>0.289622</td>\n",
       "      <td>-2.313881</td>\n",
       "      <td>2.214559</td>\n",
       "      <td>-0.749352</td>\n",
       "      <td>...</td>\n",
       "      <td>6.504720</td>\n",
       "      <td>4.352289</td>\n",
       "      <td>3.154235</td>\n",
       "      <td>1.539111</td>\n",
       "      <td>1.702096</td>\n",
       "      <td>1.166865</td>\n",
       "      <td>1.484935</td>\n",
       "      <td>3.421579</td>\n",
       "      <td>8.190267</td>\n",
       "      <td>Class1</td>\n",
       "    </tr>\n",
       "    <tr>\n",
       "      <th>4</th>\n",
       "      <td>-2.311593</td>\n",
       "      <td>3.005049</td>\n",
       "      <td>-1.950305</td>\n",
       "      <td>0.460368</td>\n",
       "      <td>0.644470</td>\n",
       "      <td>-0.591282</td>\n",
       "      <td>0.313431</td>\n",
       "      <td>-3.122535</td>\n",
       "      <td>4.582878</td>\n",
       "      <td>-3.763891</td>\n",
       "      <td>...</td>\n",
       "      <td>6.763549</td>\n",
       "      <td>4.377070</td>\n",
       "      <td>3.077137</td>\n",
       "      <td>1.483984</td>\n",
       "      <td>1.555896</td>\n",
       "      <td>1.251050</td>\n",
       "      <td>1.365134</td>\n",
       "      <td>3.807796</td>\n",
       "      <td>8.371690</td>\n",
       "      <td>Class1</td>\n",
       "    </tr>\n",
       "  </tbody>\n",
       "</table>\n",
       "<p>5 rows × 265 columns</p>\n",
       "</div>"
      ],
      "text/plain": [
       "    ar1_ch1   ar2_ch1   ar3_ch1   ar4_ch1   ar5_ch1   ar6_ch1   ar7_ch1  \\\n",
       "0 -2.447620  3.258939 -2.102264  0.327974  0.907990 -0.777002  0.340796   \n",
       "1 -2.218797  2.684178 -1.403154 -0.051209  0.897149 -0.622900  0.271475   \n",
       "2 -2.941553  4.907549 -5.182885  3.899922 -1.918198  0.617041 -0.043702   \n",
       "3 -2.243127  2.810532 -1.676441  0.259634  0.696978 -0.557656  0.289622   \n",
       "4 -2.311593  3.005049 -1.950305  0.460368  0.644470 -0.591282  0.313431   \n",
       "\n",
       "    ar1_ch2   ar2_ch2   ar3_ch2  ...   nWL_ch4   nWL_ch5   nWL_ch6   nWL_ch7  \\\n",
       "0 -1.519866  0.526912  0.215783  ...  6.474938  3.863636  2.985799  1.486163   \n",
       "1 -1.548806  0.629561  0.234974  ...  6.188759  4.058245  2.956128  1.509419   \n",
       "2 -1.338929  0.460083  0.219612  ...  6.599680  3.932028  3.224078  1.477574   \n",
       "3 -2.313881  2.214559 -0.749352  ...  6.504720  4.352289  3.154235  1.539111   \n",
       "4 -3.122535  4.582878 -3.763891  ...  6.763549  4.377070  3.077137  1.483984   \n",
       "\n",
       "    nWL_ch8   nWL_ch9  nWL_ch10  nWL_ch11  nWL_ch12       C  \n",
       "0  1.707903  0.975879  1.508540  4.575181  9.221928  Class1  \n",
       "1  1.732143  1.064290  1.516842  4.173755  9.083804  Class1  \n",
       "2  1.572113  1.307790  1.610933  3.046992  8.169688  Class1  \n",
       "3  1.702096  1.166865  1.484935  3.421579  8.190267  Class1  \n",
       "4  1.555896  1.251050  1.365134  3.807796  8.371690  Class1  \n",
       "\n",
       "[5 rows x 265 columns]"
      ]
     },
     "execution_count": 23,
     "metadata": {},
     "output_type": "execute_result"
    }
   ],
   "source": [
    "import pandas as pd\n",
    "df5 = pd.read_csv(r'C:\\Ninapro\\S9efd.csv')\n",
    "df5.head()"
   ]
  },
  {
   "cell_type": "code",
   "execution_count": 24,
   "id": "08520680",
   "metadata": {},
   "outputs": [],
   "source": [
    "x=df5.drop('C',axis=1)\n",
    "y=df5['C']\n",
    "\n",
    "x_train, x_test, y_train, y_test = train_test_split(x, y, test_size=0.2)"
   ]
  },
  {
   "cell_type": "code",
   "execution_count": 25,
   "id": "c8a37fe2",
   "metadata": {},
   "outputs": [
    {
     "data": {
      "text/plain": [
       "SVC()"
      ]
     },
     "execution_count": 25,
     "metadata": {},
     "output_type": "execute_result"
    }
   ],
   "source": [
    "from sklearn.svm import SVC\n",
    "svc_model5 = SVC()\n",
    "svc_model5.fit(x_train, y_train)"
   ]
  },
  {
   "cell_type": "code",
   "execution_count": 26,
   "id": "71db2cfb",
   "metadata": {},
   "outputs": [
    {
     "data": {
      "text/plain": [
       "0.9767137624280482"
      ]
     },
     "execution_count": 26,
     "metadata": {},
     "output_type": "execute_result"
    }
   ],
   "source": [
    "svc_model5.score(x_test, y_test)"
   ]
  },
  {
   "cell_type": "code",
   "execution_count": 27,
   "id": "c5e5086d",
   "metadata": {},
   "outputs": [
    {
     "data": {
      "text/plain": [
       "0.9835797461729687"
      ]
     },
     "execution_count": 27,
     "metadata": {},
     "output_type": "execute_result"
    }
   ],
   "source": [
    "svc_model5.score(x_train, y_train)"
   ]
  },
  {
   "cell_type": "markdown",
   "id": "07b2a97c",
   "metadata": {},
   "source": [
    "## S26 FOR ORG SIGNAL"
   ]
  },
  {
   "cell_type": "code",
   "execution_count": 18,
   "id": "5a98d65c",
   "metadata": {},
   "outputs": [
    {
     "data": {
      "text/html": [
       "<div>\n",
       "<style scoped>\n",
       "    .dataframe tbody tr th:only-of-type {\n",
       "        vertical-align: middle;\n",
       "    }\n",
       "\n",
       "    .dataframe tbody tr th {\n",
       "        vertical-align: top;\n",
       "    }\n",
       "\n",
       "    .dataframe thead th {\n",
       "        text-align: right;\n",
       "    }\n",
       "</style>\n",
       "<table border=\"1\" class=\"dataframe\">\n",
       "  <thead>\n",
       "    <tr style=\"text-align: right;\">\n",
       "      <th></th>\n",
       "      <th>ar1_ch1</th>\n",
       "      <th>ar2_ch1</th>\n",
       "      <th>ar3_ch1</th>\n",
       "      <th>ar4_ch1</th>\n",
       "      <th>ar5_ch1</th>\n",
       "      <th>ar6_ch1</th>\n",
       "      <th>ar7_ch1</th>\n",
       "      <th>ar1_ch2</th>\n",
       "      <th>ar2_ch2</th>\n",
       "      <th>ar3_ch2</th>\n",
       "      <th>...</th>\n",
       "      <th>nWL_ch4</th>\n",
       "      <th>nWL_ch5</th>\n",
       "      <th>nWL_ch6</th>\n",
       "      <th>nWL_ch7</th>\n",
       "      <th>nWL_ch8</th>\n",
       "      <th>nWL_ch9</th>\n",
       "      <th>nWL_ch10</th>\n",
       "      <th>nWL_ch11</th>\n",
       "      <th>nWL_ch12</th>\n",
       "      <th>C</th>\n",
       "    </tr>\n",
       "  </thead>\n",
       "  <tbody>\n",
       "    <tr>\n",
       "      <th>0</th>\n",
       "      <td>-1.847818</td>\n",
       "      <td>0.868182</td>\n",
       "      <td>0.159224</td>\n",
       "      <td>-0.199092</td>\n",
       "      <td>-0.073041</td>\n",
       "      <td>0.182780</td>\n",
       "      <td>-0.080518</td>\n",
       "      <td>-1.160882</td>\n",
       "      <td>0.035603</td>\n",
       "      <td>0.045039</td>\n",
       "      <td>...</td>\n",
       "      <td>1.708775</td>\n",
       "      <td>6.385790</td>\n",
       "      <td>7.044434</td>\n",
       "      <td>2.650867</td>\n",
       "      <td>1.476512</td>\n",
       "      <td>0.610176</td>\n",
       "      <td>1.735924</td>\n",
       "      <td>3.036323</td>\n",
       "      <td>5.270085</td>\n",
       "      <td>Class1</td>\n",
       "    </tr>\n",
       "    <tr>\n",
       "      <th>1</th>\n",
       "      <td>-1.594140</td>\n",
       "      <td>0.468545</td>\n",
       "      <td>0.201316</td>\n",
       "      <td>-0.018461</td>\n",
       "      <td>-0.045059</td>\n",
       "      <td>0.037053</td>\n",
       "      <td>-0.037508</td>\n",
       "      <td>-1.273733</td>\n",
       "      <td>0.130636</td>\n",
       "      <td>0.087819</td>\n",
       "      <td>...</td>\n",
       "      <td>1.495724</td>\n",
       "      <td>6.396501</td>\n",
       "      <td>6.883474</td>\n",
       "      <td>2.793914</td>\n",
       "      <td>1.536437</td>\n",
       "      <td>0.569359</td>\n",
       "      <td>1.719745</td>\n",
       "      <td>2.927036</td>\n",
       "      <td>5.262764</td>\n",
       "      <td>Class1</td>\n",
       "    </tr>\n",
       "    <tr>\n",
       "      <th>2</th>\n",
       "      <td>-1.378937</td>\n",
       "      <td>0.220280</td>\n",
       "      <td>0.163636</td>\n",
       "      <td>0.061566</td>\n",
       "      <td>-0.019346</td>\n",
       "      <td>-0.030685</td>\n",
       "      <td>0.015003</td>\n",
       "      <td>-1.255530</td>\n",
       "      <td>0.113722</td>\n",
       "      <td>0.085876</td>\n",
       "      <td>...</td>\n",
       "      <td>1.427721</td>\n",
       "      <td>6.451389</td>\n",
       "      <td>7.363995</td>\n",
       "      <td>3.379809</td>\n",
       "      <td>1.491278</td>\n",
       "      <td>0.605849</td>\n",
       "      <td>2.172996</td>\n",
       "      <td>3.270450</td>\n",
       "      <td>5.322463</td>\n",
       "      <td>Class1</td>\n",
       "    </tr>\n",
       "    <tr>\n",
       "      <th>3</th>\n",
       "      <td>-2.007546</td>\n",
       "      <td>1.123211</td>\n",
       "      <td>0.093356</td>\n",
       "      <td>-0.245112</td>\n",
       "      <td>0.013412</td>\n",
       "      <td>0.087319</td>\n",
       "      <td>-0.055796</td>\n",
       "      <td>-1.140246</td>\n",
       "      <td>0.065261</td>\n",
       "      <td>0.052183</td>\n",
       "      <td>...</td>\n",
       "      <td>1.565277</td>\n",
       "      <td>6.945631</td>\n",
       "      <td>7.484783</td>\n",
       "      <td>3.407258</td>\n",
       "      <td>1.412789</td>\n",
       "      <td>0.603893</td>\n",
       "      <td>2.151997</td>\n",
       "      <td>3.340773</td>\n",
       "      <td>5.078972</td>\n",
       "      <td>Class1</td>\n",
       "    </tr>\n",
       "    <tr>\n",
       "      <th>4</th>\n",
       "      <td>-1.819090</td>\n",
       "      <td>0.773926</td>\n",
       "      <td>0.157187</td>\n",
       "      <td>-0.073753</td>\n",
       "      <td>0.003940</td>\n",
       "      <td>-0.018854</td>\n",
       "      <td>-0.012003</td>\n",
       "      <td>-1.137397</td>\n",
       "      <td>0.062563</td>\n",
       "      <td>0.040076</td>\n",
       "      <td>...</td>\n",
       "      <td>1.714521</td>\n",
       "      <td>6.375274</td>\n",
       "      <td>7.668471</td>\n",
       "      <td>3.481466</td>\n",
       "      <td>1.463907</td>\n",
       "      <td>0.664952</td>\n",
       "      <td>2.258936</td>\n",
       "      <td>3.359594</td>\n",
       "      <td>4.979519</td>\n",
       "      <td>Class1</td>\n",
       "    </tr>\n",
       "  </tbody>\n",
       "</table>\n",
       "<p>5 rows × 265 columns</p>\n",
       "</div>"
      ],
      "text/plain": [
       "    ar1_ch1   ar2_ch1   ar3_ch1   ar4_ch1   ar5_ch1   ar6_ch1   ar7_ch1  \\\n",
       "0 -1.847818  0.868182  0.159224 -0.199092 -0.073041  0.182780 -0.080518   \n",
       "1 -1.594140  0.468545  0.201316 -0.018461 -0.045059  0.037053 -0.037508   \n",
       "2 -1.378937  0.220280  0.163636  0.061566 -0.019346 -0.030685  0.015003   \n",
       "3 -2.007546  1.123211  0.093356 -0.245112  0.013412  0.087319 -0.055796   \n",
       "4 -1.819090  0.773926  0.157187 -0.073753  0.003940 -0.018854 -0.012003   \n",
       "\n",
       "    ar1_ch2   ar2_ch2   ar3_ch2  ...   nWL_ch4   nWL_ch5   nWL_ch6   nWL_ch7  \\\n",
       "0 -1.160882  0.035603  0.045039  ...  1.708775  6.385790  7.044434  2.650867   \n",
       "1 -1.273733  0.130636  0.087819  ...  1.495724  6.396501  6.883474  2.793914   \n",
       "2 -1.255530  0.113722  0.085876  ...  1.427721  6.451389  7.363995  3.379809   \n",
       "3 -1.140246  0.065261  0.052183  ...  1.565277  6.945631  7.484783  3.407258   \n",
       "4 -1.137397  0.062563  0.040076  ...  1.714521  6.375274  7.668471  3.481466   \n",
       "\n",
       "    nWL_ch8   nWL_ch9  nWL_ch10  nWL_ch11  nWL_ch12       C  \n",
       "0  1.476512  0.610176  1.735924  3.036323  5.270085  Class1  \n",
       "1  1.536437  0.569359  1.719745  2.927036  5.262764  Class1  \n",
       "2  1.491278  0.605849  2.172996  3.270450  5.322463  Class1  \n",
       "3  1.412789  0.603893  2.151997  3.340773  5.078972  Class1  \n",
       "4  1.463907  0.664952  2.258936  3.359594  4.979519  Class1  \n",
       "\n",
       "[5 rows x 265 columns]"
      ]
     },
     "execution_count": 18,
     "metadata": {},
     "output_type": "execute_result"
    }
   ],
   "source": [
    "import pandas as pd\n",
    "df4 = pd.read_csv(r'C:\\Ninapro\\S26.csv')\n",
    "df4.head()"
   ]
  },
  {
   "cell_type": "code",
   "execution_count": 19,
   "id": "8e61af98",
   "metadata": {},
   "outputs": [],
   "source": [
    "x=df4.drop('C',axis=1)\n",
    "y=df4['C']\n",
    "\n",
    "x_train, x_test, y_train, y_test = train_test_split(x, y, test_size=0.2)"
   ]
  },
  {
   "cell_type": "code",
   "execution_count": 20,
   "id": "a18446a1",
   "metadata": {},
   "outputs": [
    {
     "data": {
      "text/plain": [
       "SVC()"
      ]
     },
     "execution_count": 20,
     "metadata": {},
     "output_type": "execute_result"
    }
   ],
   "source": [
    "from sklearn.svm import SVC\n",
    "svc_model4 = SVC()\n",
    "svc_model4.fit(x_train, y_train)"
   ]
  },
  {
   "cell_type": "code",
   "execution_count": 21,
   "id": "db88aa25",
   "metadata": {},
   "outputs": [
    {
     "data": {
      "text/plain": [
       "0.9926600860541634"
      ]
     },
     "execution_count": 21,
     "metadata": {},
     "output_type": "execute_result"
    }
   ],
   "source": [
    "svc_model4.score(x_test, y_test)"
   ]
  },
  {
   "cell_type": "code",
   "execution_count": 22,
   "id": "0ae4831b",
   "metadata": {},
   "outputs": [
    {
     "data": {
      "text/plain": [
       "0.9967723561799886"
      ]
     },
     "execution_count": 22,
     "metadata": {},
     "output_type": "execute_result"
    }
   ],
   "source": [
    "svc_model4.score(x_train, y_train)"
   ]
  },
  {
   "cell_type": "markdown",
   "id": "c58ef03e",
   "metadata": {},
   "source": [
    "## S26 FOR EFD DECOMPOSED SIGNAL COMP"
   ]
  },
  {
   "cell_type": "code",
   "execution_count": 33,
   "id": "b7a9743c",
   "metadata": {},
   "outputs": [
    {
     "data": {
      "text/html": [
       "<div>\n",
       "<style scoped>\n",
       "    .dataframe tbody tr th:only-of-type {\n",
       "        vertical-align: middle;\n",
       "    }\n",
       "\n",
       "    .dataframe tbody tr th {\n",
       "        vertical-align: top;\n",
       "    }\n",
       "\n",
       "    .dataframe thead th {\n",
       "        text-align: right;\n",
       "    }\n",
       "</style>\n",
       "<table border=\"1\" class=\"dataframe\">\n",
       "  <thead>\n",
       "    <tr style=\"text-align: right;\">\n",
       "      <th></th>\n",
       "      <th>ar1_ch1</th>\n",
       "      <th>ar2_ch1</th>\n",
       "      <th>ar3_ch1</th>\n",
       "      <th>ar4_ch1</th>\n",
       "      <th>ar5_ch1</th>\n",
       "      <th>ar6_ch1</th>\n",
       "      <th>ar7_ch1</th>\n",
       "      <th>ar1_ch2</th>\n",
       "      <th>ar2_ch2</th>\n",
       "      <th>ar3_ch2</th>\n",
       "      <th>...</th>\n",
       "      <th>nWL_ch4</th>\n",
       "      <th>nWL_ch5</th>\n",
       "      <th>nWL_ch6</th>\n",
       "      <th>nWL_ch7</th>\n",
       "      <th>nWL_ch8</th>\n",
       "      <th>nWL_ch9</th>\n",
       "      <th>nWL_ch10</th>\n",
       "      <th>nWL_ch11</th>\n",
       "      <th>nWL_ch12</th>\n",
       "      <th>C</th>\n",
       "    </tr>\n",
       "  </thead>\n",
       "  <tbody>\n",
       "    <tr>\n",
       "      <th>0</th>\n",
       "      <td>-1.953621</td>\n",
       "      <td>1.188928</td>\n",
       "      <td>0.066852</td>\n",
       "      <td>-0.356648</td>\n",
       "      <td>-0.027296</td>\n",
       "      <td>0.224016</td>\n",
       "      <td>-0.051810</td>\n",
       "      <td>-1.873903</td>\n",
       "      <td>1.055731</td>\n",
       "      <td>0.099653</td>\n",
       "      <td>...</td>\n",
       "      <td>1.760274</td>\n",
       "      <td>5.915253</td>\n",
       "      <td>6.752850</td>\n",
       "      <td>2.544348</td>\n",
       "      <td>1.476179</td>\n",
       "      <td>0.601726</td>\n",
       "      <td>1.598569</td>\n",
       "      <td>3.012160</td>\n",
       "      <td>5.083982</td>\n",
       "      <td>Class1</td>\n",
       "    </tr>\n",
       "    <tr>\n",
       "      <th>1</th>\n",
       "      <td>-1.907887</td>\n",
       "      <td>1.079664</td>\n",
       "      <td>0.081667</td>\n",
       "      <td>-0.241870</td>\n",
       "      <td>-0.040757</td>\n",
       "      <td>0.141198</td>\n",
       "      <td>-0.026993</td>\n",
       "      <td>-1.695783</td>\n",
       "      <td>0.741939</td>\n",
       "      <td>0.176482</td>\n",
       "      <td>...</td>\n",
       "      <td>1.549376</td>\n",
       "      <td>6.003098</td>\n",
       "      <td>6.663740</td>\n",
       "      <td>2.737151</td>\n",
       "      <td>1.533347</td>\n",
       "      <td>0.559303</td>\n",
       "      <td>1.613188</td>\n",
       "      <td>2.948234</td>\n",
       "      <td>5.012973</td>\n",
       "      <td>Class1</td>\n",
       "    </tr>\n",
       "    <tr>\n",
       "      <th>2</th>\n",
       "      <td>-2.054950</td>\n",
       "      <td>1.341025</td>\n",
       "      <td>-0.043435</td>\n",
       "      <td>-0.255904</td>\n",
       "      <td>0.025586</td>\n",
       "      <td>0.050543</td>\n",
       "      <td>0.009378</td>\n",
       "      <td>-1.862284</td>\n",
       "      <td>1.003211</td>\n",
       "      <td>0.101397</td>\n",
       "      <td>...</td>\n",
       "      <td>1.512382</td>\n",
       "      <td>6.002927</td>\n",
       "      <td>7.151722</td>\n",
       "      <td>3.296247</td>\n",
       "      <td>1.500040</td>\n",
       "      <td>0.596704</td>\n",
       "      <td>2.023743</td>\n",
       "      <td>3.247515</td>\n",
       "      <td>5.046390</td>\n",
       "      <td>Class1</td>\n",
       "    </tr>\n",
       "    <tr>\n",
       "      <th>3</th>\n",
       "      <td>-2.081816</td>\n",
       "      <td>1.455013</td>\n",
       "      <td>-0.147494</td>\n",
       "      <td>-0.309042</td>\n",
       "      <td>0.155266</td>\n",
       "      <td>0.025748</td>\n",
       "      <td>-0.025357</td>\n",
       "      <td>-2.359897</td>\n",
       "      <td>2.043512</td>\n",
       "      <td>-0.582715</td>\n",
       "      <td>...</td>\n",
       "      <td>1.604944</td>\n",
       "      <td>6.400470</td>\n",
       "      <td>7.300012</td>\n",
       "      <td>3.285320</td>\n",
       "      <td>1.427307</td>\n",
       "      <td>0.596297</td>\n",
       "      <td>2.138656</td>\n",
       "      <td>3.312909</td>\n",
       "      <td>4.988599</td>\n",
       "      <td>Class1</td>\n",
       "    </tr>\n",
       "    <tr>\n",
       "      <th>4</th>\n",
       "      <td>-1.914646</td>\n",
       "      <td>1.099393</td>\n",
       "      <td>0.097305</td>\n",
       "      <td>-0.278679</td>\n",
       "      <td>0.009541</td>\n",
       "      <td>0.131298</td>\n",
       "      <td>-0.052540</td>\n",
       "      <td>-1.957173</td>\n",
       "      <td>1.029338</td>\n",
       "      <td>0.271611</td>\n",
       "      <td>...</td>\n",
       "      <td>1.761883</td>\n",
       "      <td>5.992714</td>\n",
       "      <td>7.285079</td>\n",
       "      <td>3.346753</td>\n",
       "      <td>1.482062</td>\n",
       "      <td>0.659354</td>\n",
       "      <td>2.287106</td>\n",
       "      <td>3.311584</td>\n",
       "      <td>4.937157</td>\n",
       "      <td>Class1</td>\n",
       "    </tr>\n",
       "  </tbody>\n",
       "</table>\n",
       "<p>5 rows × 265 columns</p>\n",
       "</div>"
      ],
      "text/plain": [
       "    ar1_ch1   ar2_ch1   ar3_ch1   ar4_ch1   ar5_ch1   ar6_ch1   ar7_ch1  \\\n",
       "0 -1.953621  1.188928  0.066852 -0.356648 -0.027296  0.224016 -0.051810   \n",
       "1 -1.907887  1.079664  0.081667 -0.241870 -0.040757  0.141198 -0.026993   \n",
       "2 -2.054950  1.341025 -0.043435 -0.255904  0.025586  0.050543  0.009378   \n",
       "3 -2.081816  1.455013 -0.147494 -0.309042  0.155266  0.025748 -0.025357   \n",
       "4 -1.914646  1.099393  0.097305 -0.278679  0.009541  0.131298 -0.052540   \n",
       "\n",
       "    ar1_ch2   ar2_ch2   ar3_ch2  ...   nWL_ch4   nWL_ch5   nWL_ch6   nWL_ch7  \\\n",
       "0 -1.873903  1.055731  0.099653  ...  1.760274  5.915253  6.752850  2.544348   \n",
       "1 -1.695783  0.741939  0.176482  ...  1.549376  6.003098  6.663740  2.737151   \n",
       "2 -1.862284  1.003211  0.101397  ...  1.512382  6.002927  7.151722  3.296247   \n",
       "3 -2.359897  2.043512 -0.582715  ...  1.604944  6.400470  7.300012  3.285320   \n",
       "4 -1.957173  1.029338  0.271611  ...  1.761883  5.992714  7.285079  3.346753   \n",
       "\n",
       "    nWL_ch8   nWL_ch9  nWL_ch10  nWL_ch11  nWL_ch12       C  \n",
       "0  1.476179  0.601726  1.598569  3.012160  5.083982  Class1  \n",
       "1  1.533347  0.559303  1.613188  2.948234  5.012973  Class1  \n",
       "2  1.500040  0.596704  2.023743  3.247515  5.046390  Class1  \n",
       "3  1.427307  0.596297  2.138656  3.312909  4.988599  Class1  \n",
       "4  1.482062  0.659354  2.287106  3.311584  4.937157  Class1  \n",
       "\n",
       "[5 rows x 265 columns]"
      ]
     },
     "execution_count": 33,
     "metadata": {},
     "output_type": "execute_result"
    }
   ],
   "source": [
    "import pandas as pd\n",
    "df6 = pd.read_csv(r'C:\\Ninapro\\S26efd.csv')\n",
    "df6.head()"
   ]
  },
  {
   "cell_type": "code",
   "execution_count": 34,
   "id": "aca8fb80",
   "metadata": {},
   "outputs": [],
   "source": [
    "x=df6.drop('C',axis=1)\n",
    "y=df6['C']\n",
    "\n",
    "x_train, x_test, y_train, y_test = train_test_split(x, y, test_size=0.2)"
   ]
  },
  {
   "cell_type": "code",
   "execution_count": 35,
   "id": "535b8339",
   "metadata": {},
   "outputs": [
    {
     "data": {
      "text/plain": [
       "SVC()"
      ]
     },
     "execution_count": 35,
     "metadata": {},
     "output_type": "execute_result"
    }
   ],
   "source": [
    "svc_model6 = SVC()\n",
    "svc_model6.fit(x_train, y_train)"
   ]
  },
  {
   "cell_type": "code",
   "execution_count": 36,
   "id": "182deca9",
   "metadata": {},
   "outputs": [
    {
     "data": {
      "text/plain": [
       "0.9835484687420906"
      ]
     },
     "execution_count": 36,
     "metadata": {},
     "output_type": "execute_result"
    }
   ],
   "source": [
    "svc_model6.score(x_test, y_test)"
   ]
  },
  {
   "cell_type": "code",
   "execution_count": 37,
   "id": "a62d444c",
   "metadata": {},
   "outputs": [
    {
     "data": {
      "text/plain": [
       "0.9853806721093602"
      ]
     },
     "execution_count": 37,
     "metadata": {},
     "output_type": "execute_result"
    }
   ],
   "source": [
    "svc_model6.score(x_train, y_train)"
   ]
  },
  {
   "cell_type": "markdown",
   "id": "11c51f73",
   "metadata": {},
   "source": [
    "## Three Subject FOR ORG SIGNAL"
   ]
  },
  {
   "cell_type": "code",
   "execution_count": 51,
   "id": "79e0ba1c",
   "metadata": {},
   "outputs": [
    {
     "data": {
      "text/html": [
       "<div>\n",
       "<style scoped>\n",
       "    .dataframe tbody tr th:only-of-type {\n",
       "        vertical-align: middle;\n",
       "    }\n",
       "\n",
       "    .dataframe tbody tr th {\n",
       "        vertical-align: top;\n",
       "    }\n",
       "\n",
       "    .dataframe thead th {\n",
       "        text-align: right;\n",
       "    }\n",
       "</style>\n",
       "<table border=\"1\" class=\"dataframe\">\n",
       "  <thead>\n",
       "    <tr style=\"text-align: right;\">\n",
       "      <th></th>\n",
       "      <th>ar1_ch1</th>\n",
       "      <th>ar2_ch1</th>\n",
       "      <th>ar3_ch1</th>\n",
       "      <th>ar4_ch1</th>\n",
       "      <th>ar5_ch1</th>\n",
       "      <th>ar6_ch1</th>\n",
       "      <th>ar7_ch1</th>\n",
       "      <th>ar1_ch2</th>\n",
       "      <th>ar2_ch2</th>\n",
       "      <th>ar3_ch2</th>\n",
       "      <th>...</th>\n",
       "      <th>nWL_ch4</th>\n",
       "      <th>nWL_ch5</th>\n",
       "      <th>nWL_ch6</th>\n",
       "      <th>nWL_ch7</th>\n",
       "      <th>nWL_ch8</th>\n",
       "      <th>nWL_ch9</th>\n",
       "      <th>nWL_ch10</th>\n",
       "      <th>nWL_ch11</th>\n",
       "      <th>nWL_ch12</th>\n",
       "      <th>C</th>\n",
       "    </tr>\n",
       "  </thead>\n",
       "  <tbody>\n",
       "    <tr>\n",
       "      <th>0</th>\n",
       "      <td>-2.521223</td>\n",
       "      <td>2.373229</td>\n",
       "      <td>-0.713543</td>\n",
       "      <td>-0.497003</td>\n",
       "      <td>0.438578</td>\n",
       "      <td>-0.035044</td>\n",
       "      <td>-0.034854</td>\n",
       "      <td>-1.691948</td>\n",
       "      <td>0.591917</td>\n",
       "      <td>0.220985</td>\n",
       "      <td>...</td>\n",
       "      <td>6.941143</td>\n",
       "      <td>3.819503</td>\n",
       "      <td>3.106167</td>\n",
       "      <td>1.495742</td>\n",
       "      <td>1.696277</td>\n",
       "      <td>1.300851</td>\n",
       "      <td>1.627605</td>\n",
       "      <td>4.593779</td>\n",
       "      <td>9.182778</td>\n",
       "      <td>Class1</td>\n",
       "    </tr>\n",
       "    <tr>\n",
       "      <th>1</th>\n",
       "      <td>-1.433505</td>\n",
       "      <td>0.358481</td>\n",
       "      <td>0.174970</td>\n",
       "      <td>-0.019385</td>\n",
       "      <td>-0.075336</td>\n",
       "      <td>-0.033368</td>\n",
       "      <td>0.059661</td>\n",
       "      <td>-1.317897</td>\n",
       "      <td>0.187413</td>\n",
       "      <td>0.125433</td>\n",
       "      <td>...</td>\n",
       "      <td>6.428668</td>\n",
       "      <td>4.081753</td>\n",
       "      <td>3.050340</td>\n",
       "      <td>1.559065</td>\n",
       "      <td>1.728710</td>\n",
       "      <td>1.229793</td>\n",
       "      <td>1.651775</td>\n",
       "      <td>4.181011</td>\n",
       "      <td>9.184570</td>\n",
       "      <td>Class1</td>\n",
       "    </tr>\n",
       "    <tr>\n",
       "      <th>2</th>\n",
       "      <td>-2.971931</td>\n",
       "      <td>3.785352</td>\n",
       "      <td>-2.411412</td>\n",
       "      <td>0.168262</td>\n",
       "      <td>0.997326</td>\n",
       "      <td>-0.808211</td>\n",
       "      <td>0.247608</td>\n",
       "      <td>-1.244226</td>\n",
       "      <td>0.201447</td>\n",
       "      <td>0.125476</td>\n",
       "      <td>...</td>\n",
       "      <td>6.850548</td>\n",
       "      <td>3.832822</td>\n",
       "      <td>3.303642</td>\n",
       "      <td>1.480652</td>\n",
       "      <td>1.565089</td>\n",
       "      <td>1.378472</td>\n",
       "      <td>1.785715</td>\n",
       "      <td>3.078879</td>\n",
       "      <td>8.504616</td>\n",
       "      <td>Class1</td>\n",
       "    </tr>\n",
       "    <tr>\n",
       "      <th>3</th>\n",
       "      <td>-1.418472</td>\n",
       "      <td>0.346564</td>\n",
       "      <td>0.163890</td>\n",
       "      <td>-0.036481</td>\n",
       "      <td>-0.083629</td>\n",
       "      <td>-0.025504</td>\n",
       "      <td>0.085970</td>\n",
       "      <td>-1.867852</td>\n",
       "      <td>0.928824</td>\n",
       "      <td>0.168354</td>\n",
       "      <td>...</td>\n",
       "      <td>6.694025</td>\n",
       "      <td>4.312051</td>\n",
       "      <td>3.218859</td>\n",
       "      <td>1.491782</td>\n",
       "      <td>1.701551</td>\n",
       "      <td>1.231602</td>\n",
       "      <td>1.681725</td>\n",
       "      <td>3.456387</td>\n",
       "      <td>9.086210</td>\n",
       "      <td>Class1</td>\n",
       "    </tr>\n",
       "    <tr>\n",
       "      <th>4</th>\n",
       "      <td>-2.007563</td>\n",
       "      <td>1.247713</td>\n",
       "      <td>0.019923</td>\n",
       "      <td>-0.369273</td>\n",
       "      <td>-0.011450</td>\n",
       "      <td>0.171503</td>\n",
       "      <td>-0.042217</td>\n",
       "      <td>-1.508747</td>\n",
       "      <td>0.420123</td>\n",
       "      <td>0.201984</td>\n",
       "      <td>...</td>\n",
       "      <td>6.907828</td>\n",
       "      <td>4.323457</td>\n",
       "      <td>3.133927</td>\n",
       "      <td>1.546925</td>\n",
       "      <td>1.560492</td>\n",
       "      <td>1.293092</td>\n",
       "      <td>1.598822</td>\n",
       "      <td>3.842746</td>\n",
       "      <td>9.037972</td>\n",
       "      <td>Class1</td>\n",
       "    </tr>\n",
       "  </tbody>\n",
       "</table>\n",
       "<p>5 rows × 265 columns</p>\n",
       "</div>"
      ],
      "text/plain": [
       "    ar1_ch1   ar2_ch1   ar3_ch1   ar4_ch1   ar5_ch1   ar6_ch1   ar7_ch1  \\\n",
       "0 -2.521223  2.373229 -0.713543 -0.497003  0.438578 -0.035044 -0.034854   \n",
       "1 -1.433505  0.358481  0.174970 -0.019385 -0.075336 -0.033368  0.059661   \n",
       "2 -2.971931  3.785352 -2.411412  0.168262  0.997326 -0.808211  0.247608   \n",
       "3 -1.418472  0.346564  0.163890 -0.036481 -0.083629 -0.025504  0.085970   \n",
       "4 -2.007563  1.247713  0.019923 -0.369273 -0.011450  0.171503 -0.042217   \n",
       "\n",
       "    ar1_ch2   ar2_ch2   ar3_ch2  ...   nWL_ch4   nWL_ch5   nWL_ch6   nWL_ch7  \\\n",
       "0 -1.691948  0.591917  0.220985  ...  6.941143  3.819503  3.106167  1.495742   \n",
       "1 -1.317897  0.187413  0.125433  ...  6.428668  4.081753  3.050340  1.559065   \n",
       "2 -1.244226  0.201447  0.125476  ...  6.850548  3.832822  3.303642  1.480652   \n",
       "3 -1.867852  0.928824  0.168354  ...  6.694025  4.312051  3.218859  1.491782   \n",
       "4 -1.508747  0.420123  0.201984  ...  6.907828  4.323457  3.133927  1.546925   \n",
       "\n",
       "    nWL_ch8   nWL_ch9  nWL_ch10  nWL_ch11  nWL_ch12       C  \n",
       "0  1.696277  1.300851  1.627605  4.593779  9.182778  Class1  \n",
       "1  1.728710  1.229793  1.651775  4.181011  9.184570  Class1  \n",
       "2  1.565089  1.378472  1.785715  3.078879  8.504616  Class1  \n",
       "3  1.701551  1.231602  1.681725  3.456387  9.086210  Class1  \n",
       "4  1.560492  1.293092  1.598822  3.842746  9.037972  Class1  \n",
       "\n",
       "[5 rows x 265 columns]"
      ]
     },
     "execution_count": 51,
     "metadata": {},
     "output_type": "execute_result"
    }
   ],
   "source": [
    "import pandas as pd\n",
    "df7 = pd.read_csv(r'C:\\Ninapro\\SALL.csv')\n",
    "df7.head()"
   ]
  },
  {
   "cell_type": "code",
   "execution_count": 52,
   "id": "cc321403",
   "metadata": {},
   "outputs": [],
   "source": [
    "x=df7.drop('C',axis=1)\n",
    "y=df7['C']\n",
    "\n",
    "x_train, x_test, y_train, y_test = train_test_split(x, y, test_size=0.2)"
   ]
  },
  {
   "cell_type": "code",
   "execution_count": 53,
   "id": "8a4012da",
   "metadata": {},
   "outputs": [
    {
     "data": {
      "text/plain": [
       "SVC()"
      ]
     },
     "execution_count": 53,
     "metadata": {},
     "output_type": "execute_result"
    }
   ],
   "source": [
    "svc_model7 = SVC()\n",
    "svc_model7.fit(x_train, y_train)"
   ]
  },
  {
   "cell_type": "code",
   "execution_count": 54,
   "id": "466ff7d3",
   "metadata": {},
   "outputs": [
    {
     "data": {
      "text/plain": [
       "0.9826754007929668"
      ]
     },
     "execution_count": 54,
     "metadata": {},
     "output_type": "execute_result"
    }
   ],
   "source": [
    "svc_model7.score(x_test, y_test)"
   ]
  },
  {
   "cell_type": "code",
   "execution_count": 55,
   "id": "daeed1e4",
   "metadata": {},
   "outputs": [
    {
     "data": {
      "text/plain": [
       "0.993384476145326"
      ]
     },
     "execution_count": 55,
     "metadata": {},
     "output_type": "execute_result"
    }
   ],
   "source": [
    "svc_model7.score(x_train, y_train)"
   ]
  },
  {
   "cell_type": "markdown",
   "id": "d8604a91",
   "metadata": {},
   "source": [
    "## Three Subject FOR EFD DECOMPOSED SIGNAL COMP"
   ]
  },
  {
   "cell_type": "code",
   "execution_count": 46,
   "id": "f768f0f5",
   "metadata": {},
   "outputs": [
    {
     "data": {
      "text/html": [
       "<div>\n",
       "<style scoped>\n",
       "    .dataframe tbody tr th:only-of-type {\n",
       "        vertical-align: middle;\n",
       "    }\n",
       "\n",
       "    .dataframe tbody tr th {\n",
       "        vertical-align: top;\n",
       "    }\n",
       "\n",
       "    .dataframe thead th {\n",
       "        text-align: right;\n",
       "    }\n",
       "</style>\n",
       "<table border=\"1\" class=\"dataframe\">\n",
       "  <thead>\n",
       "    <tr style=\"text-align: right;\">\n",
       "      <th></th>\n",
       "      <th>ar1_ch1</th>\n",
       "      <th>ar2_ch1</th>\n",
       "      <th>ar3_ch1</th>\n",
       "      <th>ar4_ch1</th>\n",
       "      <th>ar5_ch1</th>\n",
       "      <th>ar6_ch1</th>\n",
       "      <th>ar7_ch1</th>\n",
       "      <th>ar1_ch2</th>\n",
       "      <th>ar2_ch2</th>\n",
       "      <th>ar3_ch2</th>\n",
       "      <th>...</th>\n",
       "      <th>nWL_ch4</th>\n",
       "      <th>nWL_ch5</th>\n",
       "      <th>nWL_ch6</th>\n",
       "      <th>nWL_ch7</th>\n",
       "      <th>nWL_ch8</th>\n",
       "      <th>nWL_ch9</th>\n",
       "      <th>nWL_ch10</th>\n",
       "      <th>nWL_ch11</th>\n",
       "      <th>nWL_ch12</th>\n",
       "      <th>C</th>\n",
       "    </tr>\n",
       "  </thead>\n",
       "  <tbody>\n",
       "    <tr>\n",
       "      <th>0</th>\n",
       "      <td>-2.447620</td>\n",
       "      <td>3.258939</td>\n",
       "      <td>-2.102264</td>\n",
       "      <td>0.327974</td>\n",
       "      <td>0.907990</td>\n",
       "      <td>-0.777002</td>\n",
       "      <td>0.340796</td>\n",
       "      <td>-1.519866</td>\n",
       "      <td>0.526912</td>\n",
       "      <td>0.215783</td>\n",
       "      <td>...</td>\n",
       "      <td>6.474938</td>\n",
       "      <td>3.863636</td>\n",
       "      <td>2.985799</td>\n",
       "      <td>1.486163</td>\n",
       "      <td>1.707903</td>\n",
       "      <td>0.975879</td>\n",
       "      <td>1.508540</td>\n",
       "      <td>4.575181</td>\n",
       "      <td>9.221928</td>\n",
       "      <td>Class1</td>\n",
       "    </tr>\n",
       "    <tr>\n",
       "      <th>1</th>\n",
       "      <td>-2.218797</td>\n",
       "      <td>2.684178</td>\n",
       "      <td>-1.403154</td>\n",
       "      <td>-0.051209</td>\n",
       "      <td>0.897149</td>\n",
       "      <td>-0.622900</td>\n",
       "      <td>0.271475</td>\n",
       "      <td>-1.548806</td>\n",
       "      <td>0.629561</td>\n",
       "      <td>0.234974</td>\n",
       "      <td>...</td>\n",
       "      <td>6.188759</td>\n",
       "      <td>4.058245</td>\n",
       "      <td>2.956128</td>\n",
       "      <td>1.509419</td>\n",
       "      <td>1.732143</td>\n",
       "      <td>1.064290</td>\n",
       "      <td>1.516842</td>\n",
       "      <td>4.173755</td>\n",
       "      <td>9.083804</td>\n",
       "      <td>Class1</td>\n",
       "    </tr>\n",
       "    <tr>\n",
       "      <th>2</th>\n",
       "      <td>-2.941553</td>\n",
       "      <td>4.907549</td>\n",
       "      <td>-5.182885</td>\n",
       "      <td>3.899922</td>\n",
       "      <td>-1.918198</td>\n",
       "      <td>0.617041</td>\n",
       "      <td>-0.043702</td>\n",
       "      <td>-1.338929</td>\n",
       "      <td>0.460083</td>\n",
       "      <td>0.219612</td>\n",
       "      <td>...</td>\n",
       "      <td>6.599680</td>\n",
       "      <td>3.932028</td>\n",
       "      <td>3.224078</td>\n",
       "      <td>1.477574</td>\n",
       "      <td>1.572113</td>\n",
       "      <td>1.307790</td>\n",
       "      <td>1.610933</td>\n",
       "      <td>3.046992</td>\n",
       "      <td>8.169688</td>\n",
       "      <td>Class1</td>\n",
       "    </tr>\n",
       "    <tr>\n",
       "      <th>3</th>\n",
       "      <td>-2.243127</td>\n",
       "      <td>2.810532</td>\n",
       "      <td>-1.676441</td>\n",
       "      <td>0.259634</td>\n",
       "      <td>0.696978</td>\n",
       "      <td>-0.557656</td>\n",
       "      <td>0.289622</td>\n",
       "      <td>-2.313881</td>\n",
       "      <td>2.214559</td>\n",
       "      <td>-0.749352</td>\n",
       "      <td>...</td>\n",
       "      <td>6.504720</td>\n",
       "      <td>4.352289</td>\n",
       "      <td>3.154235</td>\n",
       "      <td>1.539111</td>\n",
       "      <td>1.702096</td>\n",
       "      <td>1.166865</td>\n",
       "      <td>1.484935</td>\n",
       "      <td>3.421579</td>\n",
       "      <td>8.190267</td>\n",
       "      <td>Class1</td>\n",
       "    </tr>\n",
       "    <tr>\n",
       "      <th>4</th>\n",
       "      <td>-2.311593</td>\n",
       "      <td>3.005049</td>\n",
       "      <td>-1.950305</td>\n",
       "      <td>0.460368</td>\n",
       "      <td>0.644470</td>\n",
       "      <td>-0.591282</td>\n",
       "      <td>0.313431</td>\n",
       "      <td>-3.122535</td>\n",
       "      <td>4.582878</td>\n",
       "      <td>-3.763891</td>\n",
       "      <td>...</td>\n",
       "      <td>6.763549</td>\n",
       "      <td>4.377070</td>\n",
       "      <td>3.077137</td>\n",
       "      <td>1.483984</td>\n",
       "      <td>1.555896</td>\n",
       "      <td>1.251050</td>\n",
       "      <td>1.365134</td>\n",
       "      <td>3.807796</td>\n",
       "      <td>8.371690</td>\n",
       "      <td>Class1</td>\n",
       "    </tr>\n",
       "  </tbody>\n",
       "</table>\n",
       "<p>5 rows × 265 columns</p>\n",
       "</div>"
      ],
      "text/plain": [
       "    ar1_ch1   ar2_ch1   ar3_ch1   ar4_ch1   ar5_ch1   ar6_ch1   ar7_ch1  \\\n",
       "0 -2.447620  3.258939 -2.102264  0.327974  0.907990 -0.777002  0.340796   \n",
       "1 -2.218797  2.684178 -1.403154 -0.051209  0.897149 -0.622900  0.271475   \n",
       "2 -2.941553  4.907549 -5.182885  3.899922 -1.918198  0.617041 -0.043702   \n",
       "3 -2.243127  2.810532 -1.676441  0.259634  0.696978 -0.557656  0.289622   \n",
       "4 -2.311593  3.005049 -1.950305  0.460368  0.644470 -0.591282  0.313431   \n",
       "\n",
       "    ar1_ch2   ar2_ch2   ar3_ch2  ...   nWL_ch4   nWL_ch5   nWL_ch6   nWL_ch7  \\\n",
       "0 -1.519866  0.526912  0.215783  ...  6.474938  3.863636  2.985799  1.486163   \n",
       "1 -1.548806  0.629561  0.234974  ...  6.188759  4.058245  2.956128  1.509419   \n",
       "2 -1.338929  0.460083  0.219612  ...  6.599680  3.932028  3.224078  1.477574   \n",
       "3 -2.313881  2.214559 -0.749352  ...  6.504720  4.352289  3.154235  1.539111   \n",
       "4 -3.122535  4.582878 -3.763891  ...  6.763549  4.377070  3.077137  1.483984   \n",
       "\n",
       "    nWL_ch8   nWL_ch9  nWL_ch10  nWL_ch11  nWL_ch12       C  \n",
       "0  1.707903  0.975879  1.508540  4.575181  9.221928  Class1  \n",
       "1  1.732143  1.064290  1.516842  4.173755  9.083804  Class1  \n",
       "2  1.572113  1.307790  1.610933  3.046992  8.169688  Class1  \n",
       "3  1.702096  1.166865  1.484935  3.421579  8.190267  Class1  \n",
       "4  1.555896  1.251050  1.365134  3.807796  8.371690  Class1  \n",
       "\n",
       "[5 rows x 265 columns]"
      ]
     },
     "execution_count": 46,
     "metadata": {},
     "output_type": "execute_result"
    }
   ],
   "source": [
    "import pandas as pd\n",
    "df8 = pd.read_csv(r'C:\\Ninapro\\SALLefd.csv')\n",
    "df8.head()"
   ]
  },
  {
   "cell_type": "code",
   "execution_count": 47,
   "id": "a81bfb98",
   "metadata": {},
   "outputs": [],
   "source": [
    "x=df8.drop('C',axis=1)\n",
    "y=df8['C']\n",
    "\n",
    "x_train, x_test, y_train, y_test = train_test_split(x, y, test_size=0.2)"
   ]
  },
  {
   "cell_type": "code",
   "execution_count": 48,
   "id": "f7480304",
   "metadata": {},
   "outputs": [
    {
     "data": {
      "text/plain": [
       "SVC()"
      ]
     },
     "execution_count": 48,
     "metadata": {},
     "output_type": "execute_result"
    }
   ],
   "source": [
    "svc_model8 = SVC()\n",
    "svc_model8.fit(x_train, y_train)"
   ]
  },
  {
   "cell_type": "code",
   "execution_count": 50,
   "id": "9caffa79",
   "metadata": {},
   "outputs": [
    {
     "data": {
      "text/plain": [
       "0.9624202723668333"
      ]
     },
     "execution_count": 50,
     "metadata": {},
     "output_type": "execute_result"
    }
   ],
   "source": [
    "svc_model8.score(x_test, y_test)"
   ]
  },
  {
   "cell_type": "code",
   "execution_count": 49,
   "id": "cb48f966",
   "metadata": {},
   "outputs": [
    {
     "data": {
      "text/plain": [
       "0.9729560832650951"
      ]
     },
     "execution_count": 49,
     "metadata": {},
     "output_type": "execute_result"
    }
   ],
   "source": [
    "svc_model8.score(x_train, y_train)"
   ]
  },
  {
   "cell_type": "markdown",
   "id": "5276fb2e",
   "metadata": {},
   "source": [
    "## S13 FOR PCA"
   ]
  },
  {
   "cell_type": "code",
   "execution_count": 1,
   "id": "8e9891d3",
   "metadata": {},
   "outputs": [],
   "source": [
    "import pandas as pd\n",
    "df9 = pd.read_csv(r'C:\\Ninapro\\S13efdpca.csv')"
   ]
  },
  {
   "cell_type": "code",
   "execution_count": 4,
   "id": "c5e30255",
   "metadata": {},
   "outputs": [],
   "source": [
    "x=df9.drop('C',axis=1)\n",
    "y=df9['C']\n",
    "\n",
    "x_train, x_test, y_train, y_test = train_test_split(x, y, test_size=0.2)"
   ]
  },
  {
   "cell_type": "code",
   "execution_count": 5,
   "id": "f62e28c9",
   "metadata": {},
   "outputs": [
    {
     "data": {
      "text/plain": [
       "SVC()"
      ]
     },
     "execution_count": 5,
     "metadata": {},
     "output_type": "execute_result"
    }
   ],
   "source": [
    "svc_model9 = SVC()\n",
    "svc_model9.fit(x_train, y_train)"
   ]
  },
  {
   "cell_type": "code",
   "execution_count": 6,
   "id": "2c57bce1",
   "metadata": {},
   "outputs": [
    {
     "data": {
      "text/plain": [
       "0.9660574412532638"
      ]
     },
     "execution_count": 6,
     "metadata": {},
     "output_type": "execute_result"
    }
   ],
   "source": [
    "svc_model9.score(x_test, y_test)"
   ]
  },
  {
   "cell_type": "code",
   "execution_count": 7,
   "id": "ebdb74b2",
   "metadata": {},
   "outputs": [
    {
     "data": {
      "text/plain": [
       "0.9771510641075859"
      ]
     },
     "execution_count": 7,
     "metadata": {},
     "output_type": "execute_result"
    }
   ],
   "source": [
    "svc_model9.score(x_train, y_train)"
   ]
  },
  {
   "cell_type": "markdown",
   "id": "c08800a9",
   "metadata": {},
   "source": [
    "## S9 FOR PCA"
   ]
  },
  {
   "cell_type": "code",
   "execution_count": 8,
   "id": "13e0489f",
   "metadata": {},
   "outputs": [],
   "source": [
    "import pandas as pd\n",
    "df10 = pd.read_csv(r'C:\\Ninapro\\S9efdpca.csv')"
   ]
  },
  {
   "cell_type": "code",
   "execution_count": 9,
   "id": "fc933bcd",
   "metadata": {},
   "outputs": [],
   "source": [
    "x=df10.drop('C',axis=1)\n",
    "y=df10['C']\n",
    "\n",
    "x_train, x_test, y_train, y_test = train_test_split(x, y, test_size=0.2)"
   ]
  },
  {
   "cell_type": "code",
   "execution_count": 10,
   "id": "f112bffe",
   "metadata": {},
   "outputs": [
    {
     "data": {
      "text/plain": [
       "SVC()"
      ]
     },
     "execution_count": 10,
     "metadata": {},
     "output_type": "execute_result"
    }
   ],
   "source": [
    "svc_model10 = SVC()\n",
    "svc_model10.fit(x_train, y_train)"
   ]
  },
  {
   "cell_type": "code",
   "execution_count": 11,
   "id": "f48a82c7",
   "metadata": {},
   "outputs": [
    {
     "data": {
      "text/plain": [
       "0.9761904761904762"
      ]
     },
     "execution_count": 11,
     "metadata": {},
     "output_type": "execute_result"
    }
   ],
   "source": [
    "svc_model10.score(x_test, y_test)"
   ]
  },
  {
   "cell_type": "code",
   "execution_count": 12,
   "id": "ad469335",
   "metadata": {},
   "outputs": [
    {
     "data": {
      "text/plain": [
       "0.984953552270051"
      ]
     },
     "execution_count": 12,
     "metadata": {},
     "output_type": "execute_result"
    }
   ],
   "source": [
    "svc_model10.score(x_train, y_train)"
   ]
  },
  {
   "cell_type": "markdown",
   "id": "45d6235c",
   "metadata": {},
   "source": [
    "## S26 FOR PCA"
   ]
  },
  {
   "cell_type": "code",
   "execution_count": 13,
   "id": "db05036c",
   "metadata": {},
   "outputs": [],
   "source": [
    "import pandas as pd\n",
    "df11 = pd.read_csv(r'C:\\Ninapro\\S26efdpca.csv')"
   ]
  },
  {
   "cell_type": "code",
   "execution_count": 14,
   "id": "1c846945",
   "metadata": {},
   "outputs": [],
   "source": [
    "x=df11.drop('C',axis=1)\n",
    "y=df11['C']\n",
    "\n",
    "x_train, x_test, y_train, y_test = train_test_split(x, y, test_size=0.2)"
   ]
  },
  {
   "cell_type": "code",
   "execution_count": 15,
   "id": "657a1677",
   "metadata": {},
   "outputs": [
    {
     "data": {
      "text/plain": [
       "SVC()"
      ]
     },
     "execution_count": 15,
     "metadata": {},
     "output_type": "execute_result"
    }
   ],
   "source": [
    "svc_model11 = SVC()\n",
    "svc_model11.fit(x_train, y_train)"
   ]
  },
  {
   "cell_type": "code",
   "execution_count": 16,
   "id": "e6aa64af",
   "metadata": {},
   "outputs": [
    {
     "data": {
      "text/plain": [
       "0.9802581624905087"
      ]
     },
     "execution_count": 16,
     "metadata": {},
     "output_type": "execute_result"
    }
   ],
   "source": [
    "svc_model11.score(x_test, y_test)"
   ]
  },
  {
   "cell_type": "code",
   "execution_count": 17,
   "id": "a1d36730",
   "metadata": {},
   "outputs": [
    {
     "data": {
      "text/plain": [
       "0.9856971077779887"
      ]
     },
     "execution_count": 17,
     "metadata": {},
     "output_type": "execute_result"
    }
   ],
   "source": [
    "svc_model11.score(x_train, y_train)"
   ]
  },
  {
   "cell_type": "markdown",
   "id": "91f4e922",
   "metadata": {},
   "source": [
    "## Three Subject FOR PCA"
   ]
  },
  {
   "cell_type": "code",
   "execution_count": 18,
   "id": "0cbfe90d",
   "metadata": {},
   "outputs": [],
   "source": [
    "import pandas as pd\n",
    "df12 = pd.read_csv(r'C:\\Ninapro\\SALLefdpca.csv')"
   ]
  },
  {
   "cell_type": "code",
   "execution_count": 19,
   "id": "580f56cd",
   "metadata": {},
   "outputs": [],
   "source": [
    "x=df12.drop('C',axis=1)\n",
    "y=df12['C']\n",
    "\n",
    "x_train, x_test, y_train, y_test = train_test_split(x, y, test_size=0.2)"
   ]
  },
  {
   "cell_type": "code",
   "execution_count": 20,
   "id": "f379fce8",
   "metadata": {},
   "outputs": [
    {
     "data": {
      "text/plain": [
       "SVC()"
      ]
     },
     "execution_count": 20,
     "metadata": {},
     "output_type": "execute_result"
    }
   ],
   "source": [
    "svc_model12 = SVC()\n",
    "svc_model12.fit(x_train, y_train)"
   ]
  },
  {
   "cell_type": "code",
   "execution_count": 21,
   "id": "c3e70ffa",
   "metadata": {},
   "outputs": [
    {
     "data": {
      "text/plain": [
       "0.9563868298569213"
      ]
     },
     "execution_count": 21,
     "metadata": {},
     "output_type": "execute_result"
    }
   ],
   "source": [
    "svc_model12.score(x_test, y_test)"
   ]
  },
  {
   "cell_type": "code",
   "execution_count": 22,
   "id": "3141e2dd",
   "metadata": {},
   "outputs": [
    {
     "data": {
      "text/plain": [
       "0.9655216997802009"
      ]
     },
     "execution_count": 22,
     "metadata": {},
     "output_type": "execute_result"
    }
   ],
   "source": [
    "svc_model12.score(x_train, y_train)"
   ]
  },
  {
   "cell_type": "code",
   "execution_count": null,
   "id": "d2b99191",
   "metadata": {},
   "outputs": [],
   "source": []
  }
 ],
 "metadata": {
  "kernelspec": {
   "display_name": "Python 3 (ipykernel)",
   "language": "python",
   "name": "python3"
  },
  "language_info": {
   "codemirror_mode": {
    "name": "ipython",
    "version": 3
   },
   "file_extension": ".py",
   "mimetype": "text/x-python",
   "name": "python",
   "nbconvert_exporter": "python",
   "pygments_lexer": "ipython3",
   "version": "3.9.12"
  }
 },
 "nbformat": 4,
 "nbformat_minor": 5
}
